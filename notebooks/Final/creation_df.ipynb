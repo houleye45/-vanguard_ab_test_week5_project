{
 "cells": [
  {
   "cell_type": "code",
   "execution_count": 79,
   "id": "cc2c48a2-5a35-427c-a679-fdf093fff5a7",
   "metadata": {},
   "outputs": [
    {
     "data": {
      "text/html": [
       "<div>\n",
       "<style scoped>\n",
       "    .dataframe tbody tr th:only-of-type {\n",
       "        vertical-align: middle;\n",
       "    }\n",
       "\n",
       "    .dataframe tbody tr th {\n",
       "        vertical-align: top;\n",
       "    }\n",
       "\n",
       "    .dataframe thead th {\n",
       "        text-align: right;\n",
       "    }\n",
       "</style>\n",
       "<table border=\"1\" class=\"dataframe\">\n",
       "  <thead>\n",
       "    <tr style=\"text-align: right;\">\n",
       "      <th></th>\n",
       "      <th>client_id</th>\n",
       "      <th>visitor_id</th>\n",
       "      <th>visit_id</th>\n",
       "      <th>process_step</th>\n",
       "      <th>date_time</th>\n",
       "    </tr>\n",
       "  </thead>\n",
       "  <tbody>\n",
       "    <tr>\n",
       "      <th>0</th>\n",
       "      <td>9988021</td>\n",
       "      <td>580560515_7732621733</td>\n",
       "      <td>781255054_21935453173_531117</td>\n",
       "      <td>step_3</td>\n",
       "      <td>2017-04-17 15:27:07</td>\n",
       "    </tr>\n",
       "    <tr>\n",
       "      <th>1</th>\n",
       "      <td>9988021</td>\n",
       "      <td>580560515_7732621733</td>\n",
       "      <td>781255054_21935453173_531117</td>\n",
       "      <td>step_2</td>\n",
       "      <td>2017-04-17 15:26:51</td>\n",
       "    </tr>\n",
       "    <tr>\n",
       "      <th>2</th>\n",
       "      <td>9988021</td>\n",
       "      <td>580560515_7732621733</td>\n",
       "      <td>781255054_21935453173_531117</td>\n",
       "      <td>step_3</td>\n",
       "      <td>2017-04-17 15:19:22</td>\n",
       "    </tr>\n",
       "    <tr>\n",
       "      <th>3</th>\n",
       "      <td>9988021</td>\n",
       "      <td>580560515_7732621733</td>\n",
       "      <td>781255054_21935453173_531117</td>\n",
       "      <td>step_2</td>\n",
       "      <td>2017-04-17 15:19:13</td>\n",
       "    </tr>\n",
       "    <tr>\n",
       "      <th>4</th>\n",
       "      <td>9988021</td>\n",
       "      <td>580560515_7732621733</td>\n",
       "      <td>781255054_21935453173_531117</td>\n",
       "      <td>step_3</td>\n",
       "      <td>2017-04-17 15:18:04</td>\n",
       "    </tr>\n",
       "  </tbody>\n",
       "</table>\n",
       "</div>"
      ],
      "text/plain": [
       "   client_id            visitor_id                      visit_id process_step  \\\n",
       "0    9988021  580560515_7732621733  781255054_21935453173_531117       step_3   \n",
       "1    9988021  580560515_7732621733  781255054_21935453173_531117       step_2   \n",
       "2    9988021  580560515_7732621733  781255054_21935453173_531117       step_3   \n",
       "3    9988021  580560515_7732621733  781255054_21935453173_531117       step_2   \n",
       "4    9988021  580560515_7732621733  781255054_21935453173_531117       step_3   \n",
       "\n",
       "             date_time  \n",
       "0  2017-04-17 15:27:07  \n",
       "1  2017-04-17 15:26:51  \n",
       "2  2017-04-17 15:19:22  \n",
       "3  2017-04-17 15:19:13  \n",
       "4  2017-04-17 15:18:04  "
      ]
     },
     "execution_count": 79,
     "metadata": {},
     "output_type": "execute_result"
    }
   ],
   "source": [
    "import pandas as pd\n",
    "\n",
    "df = pd.read_csv('../../data/clean/digital_footprints.csv')\n",
    "df.head()"
   ]
  },
  {
   "cell_type": "code",
   "execution_count": 80,
   "id": "8b76116a-646c-45c3-b171-28f31d5d3694",
   "metadata": {},
   "outputs": [
    {
     "data": {
      "text/plain": [
       "(744641, 5)"
      ]
     },
     "execution_count": 80,
     "metadata": {},
     "output_type": "execute_result"
    }
   ],
   "source": [
    "df.shape"
   ]
  },
  {
   "cell_type": "code",
   "execution_count": null,
   "id": "320013d5-e3cf-42e3-8dab-9714331d79ba",
   "metadata": {},
   "outputs": [],
   "source": [
    "df.shape"
   ]
  },
  {
   "cell_type": "code",
   "execution_count": 81,
   "id": "e397a111-04cd-4426-ac84-f66e5319d8ff",
   "metadata": {},
   "outputs": [],
   "source": [
    "df['date_time'] = pd.to_datetime(df['date_time'])"
   ]
  },
  {
   "cell_type": "code",
   "execution_count": 85,
   "id": "225a33ec-b9af-4302-b6c8-a951c7c65745",
   "metadata": {},
   "outputs": [
    {
     "data": {
      "text/plain": [
       "client_id                int64\n",
       "visitor_id              object\n",
       "visit_id                object\n",
       "process_step            object\n",
       "date_time       datetime64[ns]\n",
       "dtype: object"
      ]
     },
     "execution_count": 85,
     "metadata": {},
     "output_type": "execute_result"
    }
   ],
   "source": [
    "df.dtypes"
   ]
  },
  {
   "cell_type": "code",
   "execution_count": 87,
   "id": "6562d681-ab45-417c-8e8c-2a0d56d3e3e1",
   "metadata": {},
   "outputs": [
    {
     "data": {
      "text/html": [
       "<div>\n",
       "<style scoped>\n",
       "    .dataframe tbody tr th:only-of-type {\n",
       "        vertical-align: middle;\n",
       "    }\n",
       "\n",
       "    .dataframe tbody tr th {\n",
       "        vertical-align: top;\n",
       "    }\n",
       "\n",
       "    .dataframe thead th {\n",
       "        text-align: right;\n",
       "    }\n",
       "</style>\n",
       "<table border=\"1\" class=\"dataframe\">\n",
       "  <thead>\n",
       "    <tr style=\"text-align: right;\">\n",
       "      <th></th>\n",
       "      <th>client_id</th>\n",
       "      <th>visitor_id</th>\n",
       "      <th>visit_id</th>\n",
       "      <th>process_step</th>\n",
       "      <th>date_time</th>\n",
       "    </tr>\n",
       "  </thead>\n",
       "  <tbody>\n",
       "    <tr>\n",
       "      <th>0</th>\n",
       "      <td>169</td>\n",
       "      <td>201385055_71273495308</td>\n",
       "      <td>749567106_99161211863_557568</td>\n",
       "      <td>start</td>\n",
       "      <td>2017-04-12 20:19:36</td>\n",
       "    </tr>\n",
       "    <tr>\n",
       "      <th>1</th>\n",
       "      <td>169</td>\n",
       "      <td>201385055_71273495308</td>\n",
       "      <td>749567106_99161211863_557568</td>\n",
       "      <td>step_1</td>\n",
       "      <td>2017-04-12 20:19:45</td>\n",
       "    </tr>\n",
       "    <tr>\n",
       "      <th>2</th>\n",
       "      <td>169</td>\n",
       "      <td>201385055_71273495308</td>\n",
       "      <td>749567106_99161211863_557568</td>\n",
       "      <td>step_2</td>\n",
       "      <td>2017-04-12 20:20:31</td>\n",
       "    </tr>\n",
       "    <tr>\n",
       "      <th>3</th>\n",
       "      <td>169</td>\n",
       "      <td>201385055_71273495308</td>\n",
       "      <td>749567106_99161211863_557568</td>\n",
       "      <td>step_3</td>\n",
       "      <td>2017-04-12 20:22:05</td>\n",
       "    </tr>\n",
       "    <tr>\n",
       "      <th>4</th>\n",
       "      <td>169</td>\n",
       "      <td>201385055_71273495308</td>\n",
       "      <td>749567106_99161211863_557568</td>\n",
       "      <td>confirm</td>\n",
       "      <td>2017-04-12 20:23:09</td>\n",
       "    </tr>\n",
       "    <tr>\n",
       "      <th>...</th>\n",
       "      <td>...</td>\n",
       "      <td>...</td>\n",
       "      <td>...</td>\n",
       "      <td>...</td>\n",
       "      <td>...</td>\n",
       "    </tr>\n",
       "    <tr>\n",
       "      <th>744636</th>\n",
       "      <td>9999875</td>\n",
       "      <td>738878760_1556639849</td>\n",
       "      <td>931268933_219402947_599432</td>\n",
       "      <td>step_1</td>\n",
       "      <td>2017-06-01 22:40:08</td>\n",
       "    </tr>\n",
       "    <tr>\n",
       "      <th>744637</th>\n",
       "      <td>9999875</td>\n",
       "      <td>738878760_1556639849</td>\n",
       "      <td>931268933_219402947_599432</td>\n",
       "      <td>step_1</td>\n",
       "      <td>2017-06-01 22:41:28</td>\n",
       "    </tr>\n",
       "    <tr>\n",
       "      <th>744638</th>\n",
       "      <td>9999875</td>\n",
       "      <td>738878760_1556639849</td>\n",
       "      <td>931268933_219402947_599432</td>\n",
       "      <td>step_2</td>\n",
       "      <td>2017-06-01 22:41:47</td>\n",
       "    </tr>\n",
       "    <tr>\n",
       "      <th>744639</th>\n",
       "      <td>9999875</td>\n",
       "      <td>738878760_1556639849</td>\n",
       "      <td>931268933_219402947_599432</td>\n",
       "      <td>step_3</td>\n",
       "      <td>2017-06-01 22:44:58</td>\n",
       "    </tr>\n",
       "    <tr>\n",
       "      <th>744640</th>\n",
       "      <td>9999875</td>\n",
       "      <td>738878760_1556639849</td>\n",
       "      <td>931268933_219402947_599432</td>\n",
       "      <td>confirm</td>\n",
       "      <td>2017-06-01 22:48:39</td>\n",
       "    </tr>\n",
       "  </tbody>\n",
       "</table>\n",
       "<p>501961 rows × 5 columns</p>\n",
       "</div>"
      ],
      "text/plain": [
       "        client_id             visitor_id                      visit_id  \\\n",
       "0             169  201385055_71273495308  749567106_99161211863_557568   \n",
       "1             169  201385055_71273495308  749567106_99161211863_557568   \n",
       "2             169  201385055_71273495308  749567106_99161211863_557568   \n",
       "3             169  201385055_71273495308  749567106_99161211863_557568   \n",
       "4             169  201385055_71273495308  749567106_99161211863_557568   \n",
       "...           ...                    ...                           ...   \n",
       "744636    9999875   738878760_1556639849    931268933_219402947_599432   \n",
       "744637    9999875   738878760_1556639849    931268933_219402947_599432   \n",
       "744638    9999875   738878760_1556639849    931268933_219402947_599432   \n",
       "744639    9999875   738878760_1556639849    931268933_219402947_599432   \n",
       "744640    9999875   738878760_1556639849    931268933_219402947_599432   \n",
       "\n",
       "       process_step           date_time  \n",
       "0             start 2017-04-12 20:19:36  \n",
       "1            step_1 2017-04-12 20:19:45  \n",
       "2            step_2 2017-04-12 20:20:31  \n",
       "3            step_3 2017-04-12 20:22:05  \n",
       "4           confirm 2017-04-12 20:23:09  \n",
       "...             ...                 ...  \n",
       "744636       step_1 2017-06-01 22:40:08  \n",
       "744637       step_1 2017-06-01 22:41:28  \n",
       "744638       step_2 2017-06-01 22:41:47  \n",
       "744639       step_3 2017-06-01 22:44:58  \n",
       "744640      confirm 2017-06-01 22:48:39  \n",
       "\n",
       "[501961 rows x 5 columns]"
      ]
     },
     "execution_count": 87,
     "metadata": {},
     "output_type": "execute_result"
    }
   ],
   "source": [
    "df = df.sort_values(by=['client_id', 'date_time'])\n",
    "\n",
    "# Identify the last \"start\" step for each client_id\n",
    "last_start_df = df[df['process_step'] == 'start'].groupby('client_id')['date_time'].max().reset_index()\n",
    "\n",
    "# Merge the last start and last confirm times with the original DataFrame\n",
    "df = pd.merge(df, last_start_df, on='client_id', how='left', suffixes=('', '_last_start'))\n",
    "\n",
    "# Correct the filtering condition using parentheses for both conditions\n",
    "client_last_start = df[(df['date_time'] >= df['date_time_last_start'])]\n",
    "\n",
    "# Drop the helper columns\n",
    "client_last_start = client_last_start.drop(columns=['date_time_last_start'])\n",
    "client_last_start"
   ]
  },
  {
   "cell_type": "code",
   "execution_count": 89,
   "id": "0059ae0a-38a5-4c83-a6e7-98da83d7acad",
   "metadata": {},
   "outputs": [],
   "source": [
    "client_last_start.to_csv('../../data/clean/client_last_start.csv')"
   ]
  },
  {
   "cell_type": "code",
   "execution_count": 92,
   "id": "ed8a53f8-7dba-4a9c-bb86-96595d838071",
   "metadata": {},
   "outputs": [
    {
     "data": {
      "text/html": [
       "<div>\n",
       "<style scoped>\n",
       "    .dataframe tbody tr th:only-of-type {\n",
       "        vertical-align: middle;\n",
       "    }\n",
       "\n",
       "    .dataframe tbody tr th {\n",
       "        vertical-align: top;\n",
       "    }\n",
       "\n",
       "    .dataframe thead th {\n",
       "        text-align: right;\n",
       "    }\n",
       "</style>\n",
       "<table border=\"1\" class=\"dataframe\">\n",
       "  <thead>\n",
       "    <tr style=\"text-align: right;\">\n",
       "      <th></th>\n",
       "      <th>Unnamed: 0</th>\n",
       "      <th>client_id</th>\n",
       "      <th>tenure_year</th>\n",
       "      <th>tenure_month</th>\n",
       "      <th>age</th>\n",
       "      <th>gender</th>\n",
       "      <th>number_of_accounts</th>\n",
       "      <th>balance</th>\n",
       "      <th>calls_6_mnth</th>\n",
       "      <th>logons_6_mnth</th>\n",
       "      <th>Variation</th>\n",
       "    </tr>\n",
       "  </thead>\n",
       "  <tbody>\n",
       "    <tr>\n",
       "      <th>0</th>\n",
       "      <td>0</td>\n",
       "      <td>836976</td>\n",
       "      <td>6.0</td>\n",
       "      <td>73.0</td>\n",
       "      <td>60.5</td>\n",
       "      <td>M</td>\n",
       "      <td>2.0</td>\n",
       "      <td>45105.30</td>\n",
       "      <td>6.0</td>\n",
       "      <td>9.0</td>\n",
       "      <td>Test</td>\n",
       "    </tr>\n",
       "    <tr>\n",
       "      <th>1</th>\n",
       "      <td>1</td>\n",
       "      <td>2304905</td>\n",
       "      <td>7.0</td>\n",
       "      <td>94.0</td>\n",
       "      <td>58.0</td>\n",
       "      <td>M</td>\n",
       "      <td>2.0</td>\n",
       "      <td>110860.30</td>\n",
       "      <td>6.0</td>\n",
       "      <td>9.0</td>\n",
       "      <td>Control</td>\n",
       "    </tr>\n",
       "    <tr>\n",
       "      <th>2</th>\n",
       "      <td>2</td>\n",
       "      <td>1439522</td>\n",
       "      <td>5.0</td>\n",
       "      <td>64.0</td>\n",
       "      <td>32.0</td>\n",
       "      <td>M</td>\n",
       "      <td>2.0</td>\n",
       "      <td>52467.79</td>\n",
       "      <td>6.0</td>\n",
       "      <td>9.0</td>\n",
       "      <td>Test</td>\n",
       "    </tr>\n",
       "    <tr>\n",
       "      <th>3</th>\n",
       "      <td>3</td>\n",
       "      <td>1562045</td>\n",
       "      <td>16.0</td>\n",
       "      <td>198.0</td>\n",
       "      <td>49.0</td>\n",
       "      <td>M</td>\n",
       "      <td>2.0</td>\n",
       "      <td>67454.65</td>\n",
       "      <td>3.0</td>\n",
       "      <td>6.0</td>\n",
       "      <td>Test</td>\n",
       "    </tr>\n",
       "    <tr>\n",
       "      <th>4</th>\n",
       "      <td>4</td>\n",
       "      <td>5126305</td>\n",
       "      <td>12.0</td>\n",
       "      <td>145.0</td>\n",
       "      <td>33.0</td>\n",
       "      <td>F</td>\n",
       "      <td>2.0</td>\n",
       "      <td>103671.75</td>\n",
       "      <td>0.0</td>\n",
       "      <td>3.0</td>\n",
       "      <td>Control</td>\n",
       "    </tr>\n",
       "  </tbody>\n",
       "</table>\n",
       "</div>"
      ],
      "text/plain": [
       "   Unnamed: 0  client_id  tenure_year  tenure_month   age gender  \\\n",
       "0           0     836976          6.0          73.0  60.5      M   \n",
       "1           1    2304905          7.0          94.0  58.0      M   \n",
       "2           2    1439522          5.0          64.0  32.0      M   \n",
       "3           3    1562045         16.0         198.0  49.0      M   \n",
       "4           4    5126305         12.0         145.0  33.0      F   \n",
       "\n",
       "   number_of_accounts    balance  calls_6_mnth  logons_6_mnth Variation  \n",
       "0                 2.0   45105.30           6.0            9.0      Test  \n",
       "1                 2.0  110860.30           6.0            9.0   Control  \n",
       "2                 2.0   52467.79           6.0            9.0      Test  \n",
       "3                 2.0   67454.65           3.0            6.0      Test  \n",
       "4                 2.0  103671.75           0.0            3.0   Control  "
      ]
     },
     "execution_count": 92,
     "metadata": {},
     "output_type": "execute_result"
    }
   ],
   "source": [
    "df_client_info = pd.read_csv('df_client_info.csv')\n",
    "df_client_info.head()"
   ]
  },
  {
   "cell_type": "code",
   "execution_count": 94,
   "id": "f1b70679-f57b-4ed9-8ca2-60777b0c6726",
   "metadata": {},
   "outputs": [
    {
     "data": {
      "text/plain": [
       "(70609, 11)"
      ]
     },
     "execution_count": 94,
     "metadata": {},
     "output_type": "execute_result"
    }
   ],
   "source": [
    "df_client_info.shape"
   ]
  },
  {
   "cell_type": "code",
   "execution_count": 96,
   "id": "56263be0-e2d5-4d35-b83f-4bf509018f23",
   "metadata": {},
   "outputs": [
    {
     "data": {
      "text/html": [
       "<div>\n",
       "<style scoped>\n",
       "    .dataframe tbody tr th:only-of-type {\n",
       "        vertical-align: middle;\n",
       "    }\n",
       "\n",
       "    .dataframe tbody tr th {\n",
       "        vertical-align: top;\n",
       "    }\n",
       "\n",
       "    .dataframe thead th {\n",
       "        text-align: right;\n",
       "    }\n",
       "</style>\n",
       "<table border=\"1\" class=\"dataframe\">\n",
       "  <thead>\n",
       "    <tr style=\"text-align: right;\">\n",
       "      <th></th>\n",
       "      <th>client_id</th>\n",
       "      <th>tenure_year</th>\n",
       "      <th>tenure_month</th>\n",
       "      <th>age</th>\n",
       "      <th>gender</th>\n",
       "      <th>number_of_accounts</th>\n",
       "      <th>balance</th>\n",
       "      <th>calls_6_mnth</th>\n",
       "      <th>logons_6_mnth</th>\n",
       "      <th>Variation</th>\n",
       "    </tr>\n",
       "  </thead>\n",
       "  <tbody>\n",
       "    <tr>\n",
       "      <th>0</th>\n",
       "      <td>836976</td>\n",
       "      <td>6.0</td>\n",
       "      <td>73.0</td>\n",
       "      <td>60.5</td>\n",
       "      <td>M</td>\n",
       "      <td>2.0</td>\n",
       "      <td>45105.30</td>\n",
       "      <td>6.0</td>\n",
       "      <td>9.0</td>\n",
       "      <td>Test</td>\n",
       "    </tr>\n",
       "    <tr>\n",
       "      <th>1</th>\n",
       "      <td>2304905</td>\n",
       "      <td>7.0</td>\n",
       "      <td>94.0</td>\n",
       "      <td>58.0</td>\n",
       "      <td>M</td>\n",
       "      <td>2.0</td>\n",
       "      <td>110860.30</td>\n",
       "      <td>6.0</td>\n",
       "      <td>9.0</td>\n",
       "      <td>Control</td>\n",
       "    </tr>\n",
       "    <tr>\n",
       "      <th>2</th>\n",
       "      <td>1439522</td>\n",
       "      <td>5.0</td>\n",
       "      <td>64.0</td>\n",
       "      <td>32.0</td>\n",
       "      <td>M</td>\n",
       "      <td>2.0</td>\n",
       "      <td>52467.79</td>\n",
       "      <td>6.0</td>\n",
       "      <td>9.0</td>\n",
       "      <td>Test</td>\n",
       "    </tr>\n",
       "    <tr>\n",
       "      <th>3</th>\n",
       "      <td>1562045</td>\n",
       "      <td>16.0</td>\n",
       "      <td>198.0</td>\n",
       "      <td>49.0</td>\n",
       "      <td>M</td>\n",
       "      <td>2.0</td>\n",
       "      <td>67454.65</td>\n",
       "      <td>3.0</td>\n",
       "      <td>6.0</td>\n",
       "      <td>Test</td>\n",
       "    </tr>\n",
       "    <tr>\n",
       "      <th>4</th>\n",
       "      <td>5126305</td>\n",
       "      <td>12.0</td>\n",
       "      <td>145.0</td>\n",
       "      <td>33.0</td>\n",
       "      <td>F</td>\n",
       "      <td>2.0</td>\n",
       "      <td>103671.75</td>\n",
       "      <td>0.0</td>\n",
       "      <td>3.0</td>\n",
       "      <td>Control</td>\n",
       "    </tr>\n",
       "  </tbody>\n",
       "</table>\n",
       "</div>"
      ],
      "text/plain": [
       "   client_id  tenure_year  tenure_month   age gender  number_of_accounts  \\\n",
       "0     836976          6.0          73.0  60.5      M                 2.0   \n",
       "1    2304905          7.0          94.0  58.0      M                 2.0   \n",
       "2    1439522          5.0          64.0  32.0      M                 2.0   \n",
       "3    1562045         16.0         198.0  49.0      M                 2.0   \n",
       "4    5126305         12.0         145.0  33.0      F                 2.0   \n",
       "\n",
       "     balance  calls_6_mnth  logons_6_mnth Variation  \n",
       "0   45105.30           6.0            9.0      Test  \n",
       "1  110860.30           6.0            9.0   Control  \n",
       "2   52467.79           6.0            9.0      Test  \n",
       "3   67454.65           3.0            6.0      Test  \n",
       "4  103671.75           0.0            3.0   Control  "
      ]
     },
     "execution_count": 96,
     "metadata": {},
     "output_type": "execute_result"
    }
   ],
   "source": [
    "df_client_info = df_client_info.drop(columns=['Unnamed: 0'], errors='ignore')\n",
    "df_client_info.head()"
   ]
  },
  {
   "cell_type": "code",
   "execution_count": 98,
   "id": "cf6b0e70-0728-4763-9967-e865ba99f818",
   "metadata": {},
   "outputs": [
    {
     "data": {
      "text/html": [
       "<div>\n",
       "<style scoped>\n",
       "    .dataframe tbody tr th:only-of-type {\n",
       "        vertical-align: middle;\n",
       "    }\n",
       "\n",
       "    .dataframe tbody tr th {\n",
       "        vertical-align: top;\n",
       "    }\n",
       "\n",
       "    .dataframe thead th {\n",
       "        text-align: right;\n",
       "    }\n",
       "</style>\n",
       "<table border=\"1\" class=\"dataframe\">\n",
       "  <thead>\n",
       "    <tr style=\"text-align: right;\">\n",
       "      <th></th>\n",
       "      <th>client_id</th>\n",
       "      <th>visitor_id</th>\n",
       "      <th>visit_id</th>\n",
       "      <th>process_step</th>\n",
       "      <th>date_time</th>\n",
       "      <th>tenure_year</th>\n",
       "      <th>tenure_month</th>\n",
       "      <th>age</th>\n",
       "      <th>gender</th>\n",
       "      <th>number_of_accounts</th>\n",
       "      <th>balance</th>\n",
       "      <th>calls_6_mnth</th>\n",
       "      <th>logons_6_mnth</th>\n",
       "      <th>Variation</th>\n",
       "    </tr>\n",
       "  </thead>\n",
       "  <tbody>\n",
       "    <tr>\n",
       "      <th>0</th>\n",
       "      <td>169</td>\n",
       "      <td>201385055_71273495308</td>\n",
       "      <td>749567106_99161211863_557568</td>\n",
       "      <td>start</td>\n",
       "      <td>2017-04-12 20:19:36</td>\n",
       "      <td>21.0</td>\n",
       "      <td>262.0</td>\n",
       "      <td>47.5</td>\n",
       "      <td>M</td>\n",
       "      <td>2.0</td>\n",
       "      <td>501570.72</td>\n",
       "      <td>4.0</td>\n",
       "      <td>4.0</td>\n",
       "      <td>no participation</td>\n",
       "    </tr>\n",
       "    <tr>\n",
       "      <th>1</th>\n",
       "      <td>169</td>\n",
       "      <td>201385055_71273495308</td>\n",
       "      <td>749567106_99161211863_557568</td>\n",
       "      <td>step_1</td>\n",
       "      <td>2017-04-12 20:19:45</td>\n",
       "      <td>21.0</td>\n",
       "      <td>262.0</td>\n",
       "      <td>47.5</td>\n",
       "      <td>M</td>\n",
       "      <td>2.0</td>\n",
       "      <td>501570.72</td>\n",
       "      <td>4.0</td>\n",
       "      <td>4.0</td>\n",
       "      <td>no participation</td>\n",
       "    </tr>\n",
       "    <tr>\n",
       "      <th>2</th>\n",
       "      <td>169</td>\n",
       "      <td>201385055_71273495308</td>\n",
       "      <td>749567106_99161211863_557568</td>\n",
       "      <td>step_2</td>\n",
       "      <td>2017-04-12 20:20:31</td>\n",
       "      <td>21.0</td>\n",
       "      <td>262.0</td>\n",
       "      <td>47.5</td>\n",
       "      <td>M</td>\n",
       "      <td>2.0</td>\n",
       "      <td>501570.72</td>\n",
       "      <td>4.0</td>\n",
       "      <td>4.0</td>\n",
       "      <td>no participation</td>\n",
       "    </tr>\n",
       "    <tr>\n",
       "      <th>3</th>\n",
       "      <td>169</td>\n",
       "      <td>201385055_71273495308</td>\n",
       "      <td>749567106_99161211863_557568</td>\n",
       "      <td>step_3</td>\n",
       "      <td>2017-04-12 20:22:05</td>\n",
       "      <td>21.0</td>\n",
       "      <td>262.0</td>\n",
       "      <td>47.5</td>\n",
       "      <td>M</td>\n",
       "      <td>2.0</td>\n",
       "      <td>501570.72</td>\n",
       "      <td>4.0</td>\n",
       "      <td>4.0</td>\n",
       "      <td>no participation</td>\n",
       "    </tr>\n",
       "    <tr>\n",
       "      <th>4</th>\n",
       "      <td>169</td>\n",
       "      <td>201385055_71273495308</td>\n",
       "      <td>749567106_99161211863_557568</td>\n",
       "      <td>confirm</td>\n",
       "      <td>2017-04-12 20:23:09</td>\n",
       "      <td>21.0</td>\n",
       "      <td>262.0</td>\n",
       "      <td>47.5</td>\n",
       "      <td>M</td>\n",
       "      <td>2.0</td>\n",
       "      <td>501570.72</td>\n",
       "      <td>4.0</td>\n",
       "      <td>4.0</td>\n",
       "      <td>no participation</td>\n",
       "    </tr>\n",
       "  </tbody>\n",
       "</table>\n",
       "</div>"
      ],
      "text/plain": [
       "   client_id             visitor_id                      visit_id  \\\n",
       "0        169  201385055_71273495308  749567106_99161211863_557568   \n",
       "1        169  201385055_71273495308  749567106_99161211863_557568   \n",
       "2        169  201385055_71273495308  749567106_99161211863_557568   \n",
       "3        169  201385055_71273495308  749567106_99161211863_557568   \n",
       "4        169  201385055_71273495308  749567106_99161211863_557568   \n",
       "\n",
       "  process_step           date_time  tenure_year  tenure_month   age gender  \\\n",
       "0        start 2017-04-12 20:19:36         21.0         262.0  47.5      M   \n",
       "1       step_1 2017-04-12 20:19:45         21.0         262.0  47.5      M   \n",
       "2       step_2 2017-04-12 20:20:31         21.0         262.0  47.5      M   \n",
       "3       step_3 2017-04-12 20:22:05         21.0         262.0  47.5      M   \n",
       "4      confirm 2017-04-12 20:23:09         21.0         262.0  47.5      M   \n",
       "\n",
       "   number_of_accounts    balance  calls_6_mnth  logons_6_mnth  \\\n",
       "0                 2.0  501570.72           4.0            4.0   \n",
       "1                 2.0  501570.72           4.0            4.0   \n",
       "2                 2.0  501570.72           4.0            4.0   \n",
       "3                 2.0  501570.72           4.0            4.0   \n",
       "4                 2.0  501570.72           4.0            4.0   \n",
       "\n",
       "          Variation  \n",
       "0  no participation  \n",
       "1  no participation  \n",
       "2  no participation  \n",
       "3  no participation  \n",
       "4  no participation  "
      ]
     },
     "execution_count": 98,
     "metadata": {},
     "output_type": "execute_result"
    }
   ],
   "source": [
    "df_total_info = pd.merge(client_last_start, df_client_info, on='client_id', how='inner')\n",
    "df_total_info.head()"
   ]
  },
  {
   "cell_type": "code",
   "execution_count": 225,
   "id": "cd94c403-2304-449e-ad9d-22420c6734b1",
   "metadata": {},
   "outputs": [],
   "source": [
    "df_total_info.to_csv('../../data/clean/df_total_info.csv')"
   ]
  },
  {
   "cell_type": "code",
   "execution_count": 102,
   "id": "e3e88372-8d21-4e20-a718-a8563117c8c5",
   "metadata": {},
   "outputs": [
    {
     "data": {
      "text/plain": [
       "(293124, 14)"
      ]
     },
     "execution_count": 102,
     "metadata": {},
     "output_type": "execute_result"
    }
   ],
   "source": [
    "df_total_info.shape"
   ]
  },
  {
   "cell_type": "code",
   "execution_count": 119,
   "id": "1d7188c0-e7d8-4ce3-908f-a4625cb92307",
   "metadata": {},
   "outputs": [
    {
     "data": {
      "text/plain": [
       "client_id              0\n",
       "visitor_id             0\n",
       "visit_id               0\n",
       "process_step           0\n",
       "date_time              0\n",
       "tenure_year           65\n",
       "tenure_month          65\n",
       "age                   70\n",
       "gender                 0\n",
       "number_of_accounts    65\n",
       "balance               65\n",
       "calls_6_mnth          65\n",
       "logons_6_mnth         65\n",
       "Variation              0\n",
       "dtype: int64"
      ]
     },
     "execution_count": 119,
     "metadata": {},
     "output_type": "execute_result"
    }
   ],
   "source": [
    "df_total_info.isnull().sum()"
   ]
  },
  {
   "cell_type": "code",
   "execution_count": 188,
   "id": "b35ed6a3-8dc7-4edc-8c64-e12a3f554da2",
   "metadata": {},
   "outputs": [],
   "source": [
    "df_total_info.dropna(inplace=True)"
   ]
  },
  {
   "cell_type": "code",
   "execution_count": 190,
   "id": "fc3853fb-0ab3-4380-ba47-fbbce1fc87d5",
   "metadata": {},
   "outputs": [
    {
     "data": {
      "text/plain": [
       "client_id             0\n",
       "visitor_id            0\n",
       "visit_id              0\n",
       "process_step          0\n",
       "date_time             0\n",
       "tenure_year           0\n",
       "tenure_month          0\n",
       "age                   0\n",
       "gender                0\n",
       "number_of_accounts    0\n",
       "balance               0\n",
       "calls_6_mnth          0\n",
       "logons_6_mnth         0\n",
       "Variation             0\n",
       "dtype: int64"
      ]
     },
     "execution_count": 190,
     "metadata": {},
     "output_type": "execute_result"
    }
   ],
   "source": [
    "df_total_info.isnull().sum()"
   ]
  },
  {
   "cell_type": "code",
   "execution_count": 194,
   "id": "7c05b9b5-0126-4c9b-b69d-b519edde079f",
   "metadata": {},
   "outputs": [
    {
     "data": {
      "text/plain": [
       "(293054, 14)"
      ]
     },
     "execution_count": 194,
     "metadata": {},
     "output_type": "execute_result"
    }
   ],
   "source": [
    "df_total_info.shape"
   ]
  },
  {
   "cell_type": "code",
   "execution_count": 196,
   "id": "22469cfc-4dd6-418c-ab69-62a084d79daf",
   "metadata": {},
   "outputs": [
    {
     "data": {
      "text/plain": [
       "69999"
      ]
     },
     "execution_count": 196,
     "metadata": {},
     "output_type": "execute_result"
    }
   ],
   "source": [
    "df_total_info['client_id'].nunique()"
   ]
  },
  {
   "cell_type": "code",
   "execution_count": 198,
   "id": "5c47734e-5829-4f45-bdb8-7429b647699b",
   "metadata": {},
   "outputs": [
    {
     "data": {
      "text/plain": [
       "array(['no participation', 'Test', 'Control'], dtype=object)"
      ]
     },
     "execution_count": 198,
     "metadata": {},
     "output_type": "execute_result"
    }
   ],
   "source": [
    "df_total_info['Variation'].unique()"
   ]
  },
  {
   "cell_type": "code",
   "execution_count": 200,
   "id": "bb6dcf9d-3597-47a3-875d-89152f3c9d1c",
   "metadata": {},
   "outputs": [],
   "source": [
    "df_test_info = df_total_info[df_total_info['Variation'] == 'Test']\n",
    "df_control_info = df_total_info[df_total_info['Variation'] == 'Control']\n",
    "df_no_participation_info = df_total_info[df_total_info['Variation'] == 'no participation']"
   ]
  },
  {
   "cell_type": "code",
   "execution_count": 202,
   "id": "0d2d45ae-4dd0-4be3-bbb2-261566e0dcf0",
   "metadata": {},
   "outputs": [
    {
     "name": "stdout",
     "output_type": "stream",
     "text": [
      "(115369, 14)\n",
      "(94197, 14)\n",
      "(83488, 14)\n"
     ]
    }
   ],
   "source": [
    "print(df_test_info.shape)\n",
    "print(df_control_info.shape)\n",
    "print(df_no_participation_info.shape)"
   ]
  },
  {
   "cell_type": "code",
   "execution_count": 204,
   "id": "3a8b0ba6-197c-40bd-a508-049f7534a049",
   "metadata": {
    "scrolled": true
   },
   "outputs": [
    {
     "name": "stdout",
     "output_type": "stream",
     "text": [
      "26672\n",
      "23391\n",
      "19936\n"
     ]
    }
   ],
   "source": [
    "print(df_test_info['client_id'].nunique())\n",
    "print(df_control_info['client_id'].nunique())\n",
    "print(df_no_participation_info['client_id'].nunique())"
   ]
  },
  {
   "cell_type": "code",
   "execution_count": 217,
   "id": "204ead49-ad8c-4817-adaf-eb5aba4f093d",
   "metadata": {},
   "outputs": [],
   "source": [
    "df_test_info.to_csv('../../data/clean/df_test_info.csv')"
   ]
  },
  {
   "cell_type": "code",
   "execution_count": 218,
   "id": "14d81e00-883b-430b-b475-095cc564edcd",
   "metadata": {},
   "outputs": [],
   "source": [
    "df_control_info.to_csv('../../data/clean/df_control_info.csv')"
   ]
  },
  {
   "cell_type": "code",
   "execution_count": 219,
   "id": "cfe7e973-613a-4be0-a512-9560d46f9485",
   "metadata": {},
   "outputs": [],
   "source": [
    "df_no_participation_info.to_csv('../../data/clean/df_no_participation_info.csv')"
   ]
  },
  {
   "cell_type": "code",
   "execution_count": 206,
   "id": "7ee8e37e-ca44-41e9-8f96-75d56069c3fc",
   "metadata": {},
   "outputs": [
    {
     "name": "stdout",
     "output_type": "stream",
     "text": [
      "Completion rate step 1 group test: 78.24%\n",
      "Completion rate step 2 group test: 72.51%\n",
      "Completion rate step 3 group test: 70.62%\n",
      "Completion rate total group test: 67.12%\n"
     ]
    }
   ],
   "source": [
    "start_last =  df_test_info[df_test_info['process_step'] == 'start'].groupby('client_id').last()\n",
    "step_1_last = df_test_info[df_test_info['process_step'] == 'step_1'].groupby('client_id').last()\n",
    "step_2_last = df_test_info[df_test_info['process_step'] == 'step_2'].groupby('client_id').last()\n",
    "step_3_last = df_test_info[df_test_info['process_step'] == 'step_3'].groupby('client_id').last()\n",
    "confirm_last =  df_test_info[df_test_info['process_step'] == 'confirm'].groupby('client_id').last()\n",
    "\n",
    "clients_started = set(start_last.index)\n",
    "clients_step_1 = set(step_1_last.index)\n",
    "clients_step_2 = set(step_2_last.index)\n",
    "clients_step_3 = set(step_3_last.index)\n",
    "clients_confirmed = set(confirm_last.index)\n",
    "\n",
    "# Nombre total de clients ayant commencé\n",
    "total_clients_started = len(clients_started)\n",
    "total_clients_step_1 = len(clients_step_1)\n",
    "total_clients_step_2 = len(clients_step_2)\n",
    "total_clients_step_3 = len(clients_step_3)\n",
    "total_clients_confirmed = len(clients_confirmed)\n",
    "\n",
    "# Calcul du taux de complétion step 1\n",
    "completion_rate_step_1 = total_clients_step_1 / total_clients_started if total_clients_started > 0 else 0\n",
    "print(f\"Completion rate step 1 group test: {completion_rate_step_1:.2%}\")\n",
    "\n",
    "# Calcul du taux de complétion step 2\n",
    "completion_rate_step_2 = total_clients_step_2 / total_clients_started if total_clients_started > 0 else 0\n",
    "print(f\"Completion rate step 2 group test: {completion_rate_step_2:.2%}\")\n",
    "\n",
    "# Calcul du taux de complétion step 3\n",
    "completion_rate_step_3 = total_clients_step_3 / total_clients_started if total_clients_started > 0 else 0\n",
    "print(f\"Completion rate step 3 group test: {completion_rate_step_3:.2%}\")\n",
    "\n",
    "# Calcul du taux de complétion total\n",
    "completion_rate_total = total_clients_confirmed / total_clients_started if total_clients_started > 0 else 0\n",
    "print(f\"Completion rate total group test: {completion_rate_total:.2%}\")"
   ]
  },
  {
   "cell_type": "code",
   "execution_count": 208,
   "id": "1a198479-a0f5-48f7-b9b7-03aa85b5458a",
   "metadata": {},
   "outputs": [
    {
     "name": "stdout",
     "output_type": "stream",
     "text": [
      "Completion rate step 1 group control: 75.44%\n",
      "Completion rate step 2 group control: 66.32%\n",
      "Completion rate step 3 group control: 63.41%\n",
      "Completion rate total group control: 58.50%\n"
     ]
    }
   ],
   "source": [
    "start_last = df_control_info[df_control_info['process_step'] == 'start'].groupby('client_id').last()\n",
    "step_1_last = df_control_info[df_control_info['process_step'] == 'step_1'].groupby('client_id').last()\n",
    "step_2_last = df_control_info[df_control_info['process_step'] == 'step_2'].groupby('client_id').last()\n",
    "step_3_last = df_control_info[df_control_info['process_step'] == 'step_3'].groupby('client_id').last()\n",
    "confirm_last = df_control_info[df_control_info['process_step'] == 'confirm'].groupby('client_id').last()\n",
    "\n",
    "clients_started = set(start_last.index)\n",
    "clients_step_1 = set(step_1_last.index)\n",
    "clients_step_2 = set(step_2_last.index)\n",
    "clients_step_3 = set(step_3_last.index)\n",
    "clients_confirmed = set(confirm_last.index)\n",
    "\n",
    "# Nombre total de clients ayant commencé\n",
    "total_clients_started = len(clients_started)\n",
    "total_clients_step_1 = len(clients_step_1)\n",
    "total_clients_step_2 = len(clients_step_2)\n",
    "total_clients_step_3 = len(clients_step_3)\n",
    "total_clients_confirmed = len(clients_confirmed)\n",
    "\n",
    "# Calcul du taux de complétion step 1\n",
    "completion_rate_step_1 = total_clients_step_1 / total_clients_started if total_clients_started > 0 else 0\n",
    "print(f\"Completion rate step 1 group control: {completion_rate_step_1:.2%}\")\n",
    "\n",
    "# Calcul du taux de complétion step 2\n",
    "completion_rate_step_2 = total_clients_step_2 / total_clients_started if total_clients_started > 0 else 0\n",
    "print(f\"Completion rate step 2 group control: {completion_rate_step_2:.2%}\")\n",
    "\n",
    "# Calcul du taux de complétion step 3\n",
    "completion_rate_step_3 = total_clients_step_3 / total_clients_started if total_clients_started > 0 else 0\n",
    "print(f\"Completion rate step 3 group control: {completion_rate_step_3:.2%}\")\n",
    "\n",
    "# Calcul du taux de complétion total\n",
    "completion_rate_total = total_clients_confirmed / total_clients_started if total_clients_started > 0 else 0\n",
    "print(f\"Completion rate total group control: {completion_rate_total:.2%}\")"
   ]
  },
  {
   "cell_type": "code",
   "execution_count": null,
   "id": "947d4c99-3da6-4c9e-8878-e2568969f885",
   "metadata": {},
   "outputs": [],
   "source": []
  }
 ],
 "metadata": {
  "kernelspec": {
   "display_name": "Python 3 (ipykernel)",
   "language": "python",
   "name": "python3"
  },
  "language_info": {
   "codemirror_mode": {
    "name": "ipython",
    "version": 3
   },
   "file_extension": ".py",
   "mimetype": "text/x-python",
   "name": "python",
   "nbconvert_exporter": "python",
   "pygments_lexer": "ipython3",
   "version": "3.11.5"
  }
 },
 "nbformat": 4,
 "nbformat_minor": 5
}
