{
 "cells": [
  {
   "cell_type": "code",
   "execution_count": 1,
   "id": "311b909c-24aa-46d0-bf2c-e1c0548dca4d",
   "metadata": {},
   "outputs": [
    {
     "data": {
      "text/plain": [
       "'/Users/mailysjaffret/Desktop/IRONHACK/vanguard_ab_test_week5_project/Notebooks/Maïlys'"
      ]
     },
     "execution_count": 1,
     "metadata": {},
     "output_type": "execute_result"
    }
   ],
   "source": [
    "pwd"
   ]
  },
  {
   "cell_type": "code",
   "execution_count": 12,
   "id": "c91dfd12-ea2d-4006-a266-eed578817e75",
   "metadata": {},
   "outputs": [
    {
     "data": {
      "text/html": [
       "<div>\n",
       "<style scoped>\n",
       "    .dataframe tbody tr th:only-of-type {\n",
       "        vertical-align: middle;\n",
       "    }\n",
       "\n",
       "    .dataframe tbody tr th {\n",
       "        vertical-align: top;\n",
       "    }\n",
       "\n",
       "    .dataframe thead th {\n",
       "        text-align: right;\n",
       "    }\n",
       "</style>\n",
       "<table border=\"1\" class=\"dataframe\">\n",
       "  <thead>\n",
       "    <tr style=\"text-align: right;\">\n",
       "      <th></th>\n",
       "      <th>Unnamed: 0</th>\n",
       "      <th>client_id</th>\n",
       "      <th>tenure_year</th>\n",
       "      <th>tenure_month</th>\n",
       "      <th>age</th>\n",
       "      <th>gender</th>\n",
       "      <th>number_of_accounts</th>\n",
       "      <th>balance</th>\n",
       "      <th>calls_6_mnth</th>\n",
       "      <th>logons_6_mnth</th>\n",
       "      <th>Variation</th>\n",
       "    </tr>\n",
       "  </thead>\n",
       "  <tbody>\n",
       "    <tr>\n",
       "      <th>0</th>\n",
       "      <td>0</td>\n",
       "      <td>836976</td>\n",
       "      <td>6.0</td>\n",
       "      <td>73.0</td>\n",
       "      <td>60.5</td>\n",
       "      <td>M</td>\n",
       "      <td>2.0</td>\n",
       "      <td>45105.30</td>\n",
       "      <td>6.0</td>\n",
       "      <td>9.0</td>\n",
       "      <td>Test</td>\n",
       "    </tr>\n",
       "    <tr>\n",
       "      <th>1</th>\n",
       "      <td>1</td>\n",
       "      <td>2304905</td>\n",
       "      <td>7.0</td>\n",
       "      <td>94.0</td>\n",
       "      <td>58.0</td>\n",
       "      <td>M</td>\n",
       "      <td>2.0</td>\n",
       "      <td>110860.30</td>\n",
       "      <td>6.0</td>\n",
       "      <td>9.0</td>\n",
       "      <td>Control</td>\n",
       "    </tr>\n",
       "    <tr>\n",
       "      <th>2</th>\n",
       "      <td>2</td>\n",
       "      <td>1439522</td>\n",
       "      <td>5.0</td>\n",
       "      <td>64.0</td>\n",
       "      <td>32.0</td>\n",
       "      <td>M</td>\n",
       "      <td>2.0</td>\n",
       "      <td>52467.79</td>\n",
       "      <td>6.0</td>\n",
       "      <td>9.0</td>\n",
       "      <td>Test</td>\n",
       "    </tr>\n",
       "    <tr>\n",
       "      <th>3</th>\n",
       "      <td>3</td>\n",
       "      <td>1562045</td>\n",
       "      <td>16.0</td>\n",
       "      <td>198.0</td>\n",
       "      <td>49.0</td>\n",
       "      <td>M</td>\n",
       "      <td>2.0</td>\n",
       "      <td>67454.65</td>\n",
       "      <td>3.0</td>\n",
       "      <td>6.0</td>\n",
       "      <td>Test</td>\n",
       "    </tr>\n",
       "    <tr>\n",
       "      <th>4</th>\n",
       "      <td>4</td>\n",
       "      <td>5126305</td>\n",
       "      <td>12.0</td>\n",
       "      <td>145.0</td>\n",
       "      <td>33.0</td>\n",
       "      <td>F</td>\n",
       "      <td>2.0</td>\n",
       "      <td>103671.75</td>\n",
       "      <td>0.0</td>\n",
       "      <td>3.0</td>\n",
       "      <td>Control</td>\n",
       "    </tr>\n",
       "  </tbody>\n",
       "</table>\n",
       "</div>"
      ],
      "text/plain": [
       "   Unnamed: 0  client_id  tenure_year  tenure_month   age gender  \\\n",
       "0           0     836976          6.0          73.0  60.5      M   \n",
       "1           1    2304905          7.0          94.0  58.0      M   \n",
       "2           2    1439522          5.0          64.0  32.0      M   \n",
       "3           3    1562045         16.0         198.0  49.0      M   \n",
       "4           4    5126305         12.0         145.0  33.0      F   \n",
       "\n",
       "   number_of_accounts    balance  calls_6_mnth  logons_6_mnth Variation  \n",
       "0                 2.0   45105.30           6.0            9.0      Test  \n",
       "1                 2.0  110860.30           6.0            9.0   Control  \n",
       "2                 2.0   52467.79           6.0            9.0      Test  \n",
       "3                 2.0   67454.65           3.0            6.0      Test  \n",
       "4                 2.0  103671.75           0.0            3.0   Control  "
      ]
     },
     "execution_count": 12,
     "metadata": {},
     "output_type": "execute_result"
    }
   ],
   "source": [
    "import pandas as pd\n",
    "\n",
    "df_client_info = pd.read_csv('../../data/clean/df_client_info.csv')\n",
    "df_client_info.head()"
   ]
  },
  {
   "cell_type": "code",
   "execution_count": 39,
   "id": "6148a84d-48ee-4048-893d-5347377fd6c0",
   "metadata": {},
   "outputs": [
    {
     "data": {
      "text/plain": [
       "(70609, 11)"
      ]
     },
     "execution_count": 39,
     "metadata": {},
     "output_type": "execute_result"
    }
   ],
   "source": [
    "df_client_info.shape"
   ]
  },
  {
   "cell_type": "code",
   "execution_count": 68,
   "id": "e50a5291-e39e-475b-8fef-012f62c8ae08",
   "metadata": {},
   "outputs": [
    {
     "name": "stdout",
     "output_type": "stream",
     "text": [
      "Statistics for column 'age':\n",
      "  Mean: 46.44\n",
      "  Median: 47.00\n",
      "  Standard Deviation: 15.59\n",
      "  Minimum: 13.5\n",
      "  Maximum: 96.0\n",
      "  Range: 82.5\n",
      "  1st Quartile (25th percentile): 32.5\n",
      "  3rd Quartile (75th percentile): 59.0\n",
      "----------------------------------------\n",
      "Statistics for column 'tenure_year':\n",
      "  Mean: 12.05\n",
      "  Median: 11.00\n",
      "  Standard Deviation: 6.87\n",
      "  Minimum: 2.0\n",
      "  Maximum: 62.0\n",
      "  Range: 60.0\n",
      "  1st Quartile (25th percentile): 6.0\n",
      "  3rd Quartile (75th percentile): 16.0\n",
      "----------------------------------------\n",
      "Statistics for column 'tenure_month':\n",
      "  Mean: 150.66\n",
      "  Median: 136.00\n",
      "  Standard Deviation: 82.09\n",
      "  Minimum: 33.0\n",
      "  Maximum: 749.0\n",
      "  Range: 716.0\n",
      "  1st Quartile (25th percentile): 82.0\n",
      "  3rd Quartile (75th percentile): 192.0\n",
      "----------------------------------------\n",
      "Statistics for column 'number_of_accounts':\n",
      "  Mean: 2.26\n",
      "  Median: 2.00\n",
      "  Standard Deviation: 0.53\n",
      "  Minimum: 1.0\n",
      "  Maximum: 8.0\n",
      "  Range: 7.0\n",
      "  1st Quartile (25th percentile): 2.0\n",
      "  3rd Quartile (75th percentile): 2.0\n",
      "----------------------------------------\n",
      "Statistics for column 'calls_6_mnth':\n",
      "  Mean: 3.38\n",
      "  Median: 3.00\n",
      "  Standard Deviation: 2.24\n",
      "  Minimum: 0.0\n",
      "  Maximum: 7.0\n",
      "  Range: 7.0\n",
      "  1st Quartile (25th percentile): 1.0\n",
      "  3rd Quartile (75th percentile): 6.0\n",
      "----------------------------------------\n",
      "Statistics for column 'logons_6_mnth':\n",
      "  Mean: 5.57\n",
      "  Median: 5.00\n",
      "  Standard Deviation: 2.35\n",
      "  Minimum: 1.0\n",
      "  Maximum: 9.0\n",
      "  Range: 8.0\n",
      "  1st Quartile (25th percentile): 4.0\n",
      "  3rd Quartile (75th percentile): 7.0\n",
      "----------------------------------------\n"
     ]
    }
   ],
   "source": [
    "columns_to_analyze = ['age', 'tenure_year', 'tenure_month', 'number_of_accounts', 'calls_6_mnth', 'logons_6_mnth']\n",
    "\n",
    "for column in columns_to_analyze:\n",
    "    mean_value = df_client_info[column].mean()\n",
    "    median_value = df_client_info[column].median()\n",
    "    std_value = df_client_info[column].std()\n",
    "    min_value = df_client_info[column].min()\n",
    "    max_value = df_client_info[column].max()\n",
    "    range_value = max_value - min_value\n",
    "    first_quartile = df_client_info[column].quantile(0.25)\n",
    "    third_quartile = df_client_info[column].quantile(0.75)\n",
    "\n",
    "    print(f\"Statistics for column '{column}':\")\n",
    "    print(f\"  Mean: {mean_value:.2f}\")\n",
    "    print(f\"  Median: {median_value:.2f}\")\n",
    "    print(f\"  Standard Deviation: {std_value:.2f}\")\n",
    "    print(f\"  Minimum: {min_value}\")\n",
    "    print(f\"  Maximum: {max_value}\")\n",
    "    print(f\"  Range: {range_value}\")\n",
    "    print(f\"  1st Quartile (25th percentile): {first_quartile}\")\n",
    "    print(f\"  3rd Quartile (75th percentile): {third_quartile}\")\n",
    "    print(\"-\" * 40)\n",
    "    \n",
    "    "
   ]
  },
  {
   "cell_type": "code",
   "execution_count": 51,
   "id": "3e96b962-99e4-492d-92e0-09be38f1d8ed",
   "metadata": {},
   "outputs": [
    {
     "data": {
      "text/plain": [
       "gender\n",
       "M    35793\n",
       "F    34816\n",
       "Name: count, dtype: int64"
      ]
     },
     "execution_count": 51,
     "metadata": {},
     "output_type": "execute_result"
    }
   ],
   "source": [
    "df_client_info['gender'].value_counts()"
   ]
  },
  {
   "cell_type": "code",
   "execution_count": 70,
   "id": "59889846-ec76-4eff-a74e-4331e73d8c49",
   "metadata": {},
   "outputs": [
    {
     "name": "stdout",
     "output_type": "stream",
     "text": [
      "Frequency gender :\n",
      "gender\n",
      "M    35793\n",
      "F    34816\n",
      "Name: count, dtype: int64\n",
      "Proportion gender :\n",
      "gender\n",
      "M    0.506918\n",
      "F    0.493082\n",
      "Name: proportion, dtype: float64\n"
     ]
    }
   ],
   "source": [
    "gender_counts = df_client_info['gender'].value_counts()\n",
    "gender_proportions = df_client_info['gender'].value_counts(normalize=True)\n",
    "print(f\"Frequency gender :\\n{gender_counts}\")\n",
    "print(f\"Proportion gender :\\n{gender_proportions}\")"
   ]
  },
  {
   "cell_type": "code",
   "execution_count": null,
   "id": "b09ff11b-d2fe-4039-bd19-142fe6b1c956",
   "metadata": {},
   "outputs": [],
   "source": []
  }
 ],
 "metadata": {
  "kernelspec": {
   "display_name": "Python 3 (ipykernel)",
   "language": "python",
   "name": "python3"
  },
  "language_info": {
   "codemirror_mode": {
    "name": "ipython",
    "version": 3
   },
   "file_extension": ".py",
   "mimetype": "text/x-python",
   "name": "python",
   "nbconvert_exporter": "python",
   "pygments_lexer": "ipython3",
   "version": "3.11.5"
  }
 },
 "nbformat": 4,
 "nbformat_minor": 5
}
