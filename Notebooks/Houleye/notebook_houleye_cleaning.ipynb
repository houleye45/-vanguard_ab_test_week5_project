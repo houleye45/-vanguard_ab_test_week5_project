{
 "cells": [
  {
   "cell_type": "code",
   "execution_count": 82,
   "id": "7a3d2921-5006-4f78-bfc0-b072b4a28689",
   "metadata": {},
   "outputs": [
    {
     "data": {
      "text/html": [
       "<div>\n",
       "<style scoped>\n",
       "    .dataframe tbody tr th:only-of-type {\n",
       "        vertical-align: middle;\n",
       "    }\n",
       "\n",
       "    .dataframe tbody tr th {\n",
       "        vertical-align: top;\n",
       "    }\n",
       "\n",
       "    .dataframe thead th {\n",
       "        text-align: right;\n",
       "    }\n",
       "</style>\n",
       "<table border=\"1\" class=\"dataframe\">\n",
       "  <thead>\n",
       "    <tr style=\"text-align: right;\">\n",
       "      <th></th>\n",
       "      <th>client_id</th>\n",
       "      <th>clnt_tenure_yr</th>\n",
       "      <th>clnt_tenure_mnth</th>\n",
       "      <th>clnt_age</th>\n",
       "      <th>gendr</th>\n",
       "      <th>num_accts</th>\n",
       "      <th>bal</th>\n",
       "      <th>calls_6_mnth</th>\n",
       "      <th>logons_6_mnth</th>\n",
       "    </tr>\n",
       "  </thead>\n",
       "  <tbody>\n",
       "    <tr>\n",
       "      <th>0</th>\n",
       "      <td>836976</td>\n",
       "      <td>6.0</td>\n",
       "      <td>73.0</td>\n",
       "      <td>60.5</td>\n",
       "      <td>U</td>\n",
       "      <td>2.0</td>\n",
       "      <td>45105.30</td>\n",
       "      <td>6.0</td>\n",
       "      <td>9.0</td>\n",
       "    </tr>\n",
       "    <tr>\n",
       "      <th>1</th>\n",
       "      <td>2304905</td>\n",
       "      <td>7.0</td>\n",
       "      <td>94.0</td>\n",
       "      <td>58.0</td>\n",
       "      <td>U</td>\n",
       "      <td>2.0</td>\n",
       "      <td>110860.30</td>\n",
       "      <td>6.0</td>\n",
       "      <td>9.0</td>\n",
       "    </tr>\n",
       "    <tr>\n",
       "      <th>2</th>\n",
       "      <td>1439522</td>\n",
       "      <td>5.0</td>\n",
       "      <td>64.0</td>\n",
       "      <td>32.0</td>\n",
       "      <td>U</td>\n",
       "      <td>2.0</td>\n",
       "      <td>52467.79</td>\n",
       "      <td>6.0</td>\n",
       "      <td>9.0</td>\n",
       "    </tr>\n",
       "    <tr>\n",
       "      <th>3</th>\n",
       "      <td>1562045</td>\n",
       "      <td>16.0</td>\n",
       "      <td>198.0</td>\n",
       "      <td>49.0</td>\n",
       "      <td>M</td>\n",
       "      <td>2.0</td>\n",
       "      <td>67454.65</td>\n",
       "      <td>3.0</td>\n",
       "      <td>6.0</td>\n",
       "    </tr>\n",
       "    <tr>\n",
       "      <th>4</th>\n",
       "      <td>5126305</td>\n",
       "      <td>12.0</td>\n",
       "      <td>145.0</td>\n",
       "      <td>33.0</td>\n",
       "      <td>F</td>\n",
       "      <td>2.0</td>\n",
       "      <td>103671.75</td>\n",
       "      <td>0.0</td>\n",
       "      <td>3.0</td>\n",
       "    </tr>\n",
       "  </tbody>\n",
       "</table>\n",
       "</div>"
      ],
      "text/plain": [
       "   client_id  clnt_tenure_yr  clnt_tenure_mnth  clnt_age gendr  num_accts  \\\n",
       "0     836976             6.0              73.0      60.5     U        2.0   \n",
       "1    2304905             7.0              94.0      58.0     U        2.0   \n",
       "2    1439522             5.0              64.0      32.0     U        2.0   \n",
       "3    1562045            16.0             198.0      49.0     M        2.0   \n",
       "4    5126305            12.0             145.0      33.0     F        2.0   \n",
       "\n",
       "         bal  calls_6_mnth  logons_6_mnth  \n",
       "0   45105.30           6.0            9.0  \n",
       "1  110860.30           6.0            9.0  \n",
       "2   52467.79           6.0            9.0  \n",
       "3   67454.65           3.0            6.0  \n",
       "4  103671.75           0.0            3.0  "
      ]
     },
     "execution_count": 82,
     "metadata": {},
     "output_type": "execute_result"
    }
   ],
   "source": [
    "#Importing library and  df_final_ demo csv file\n",
    "import pandas as pd\n",
    "\n",
    "df1 = pd.read_csv('https://raw.githubusercontent.com/houleye45/vanguard_ab_test_week5_project/main/data/raw/df_final_demo.txt')\n",
    "df1.head()"
   ]
  },
  {
   "cell_type": "code",
   "execution_count": 83,
   "id": "17a903d5-3a8e-4a27-bcfc-9fd264d9b81d",
   "metadata": {},
   "outputs": [
    {
     "data": {
      "text/plain": [
       "(70609, 9)"
      ]
     },
     "execution_count": 83,
     "metadata": {},
     "output_type": "execute_result"
    }
   ],
   "source": [
    "#Checking shape\n",
    "df1.shape"
   ]
  },
  {
   "cell_type": "code",
   "execution_count": 84,
   "id": "6e1020aa-37e7-402a-99a1-757c5cda887d",
   "metadata": {},
   "outputs": [],
   "source": [
    "#Renaming the columns \n",
    "df1.rename(columns= {'clnt_tenure_yr': 'tenure_year', 'clnt_tenure_mnth': 'tenure_month', 'clnt_age': 'age',\n",
    "                     'gendr': 'gender', 'num_accts': 'number_of_accounts', 'bal': 'balance'}, inplace=True)"
   ]
  },
  {
   "cell_type": "code",
   "execution_count": 85,
   "id": "1502d18c-7e1f-4feb-8cc0-64a52c57129d",
   "metadata": {},
   "outputs": [
    {
     "data": {
      "text/html": [
       "<div>\n",
       "<style scoped>\n",
       "    .dataframe tbody tr th:only-of-type {\n",
       "        vertical-align: middle;\n",
       "    }\n",
       "\n",
       "    .dataframe tbody tr th {\n",
       "        vertical-align: top;\n",
       "    }\n",
       "\n",
       "    .dataframe thead th {\n",
       "        text-align: right;\n",
       "    }\n",
       "</style>\n",
       "<table border=\"1\" class=\"dataframe\">\n",
       "  <thead>\n",
       "    <tr style=\"text-align: right;\">\n",
       "      <th></th>\n",
       "      <th>client_id</th>\n",
       "      <th>tenure_year</th>\n",
       "      <th>tenure_month</th>\n",
       "      <th>age</th>\n",
       "      <th>gender</th>\n",
       "      <th>number_of_accounts</th>\n",
       "      <th>balance</th>\n",
       "      <th>calls_6_mnth</th>\n",
       "      <th>logons_6_mnth</th>\n",
       "    </tr>\n",
       "  </thead>\n",
       "  <tbody>\n",
       "    <tr>\n",
       "      <th>0</th>\n",
       "      <td>836976</td>\n",
       "      <td>6.0</td>\n",
       "      <td>73.0</td>\n",
       "      <td>60.5</td>\n",
       "      <td>U</td>\n",
       "      <td>2.0</td>\n",
       "      <td>45105.30</td>\n",
       "      <td>6.0</td>\n",
       "      <td>9.0</td>\n",
       "    </tr>\n",
       "    <tr>\n",
       "      <th>1</th>\n",
       "      <td>2304905</td>\n",
       "      <td>7.0</td>\n",
       "      <td>94.0</td>\n",
       "      <td>58.0</td>\n",
       "      <td>U</td>\n",
       "      <td>2.0</td>\n",
       "      <td>110860.30</td>\n",
       "      <td>6.0</td>\n",
       "      <td>9.0</td>\n",
       "    </tr>\n",
       "    <tr>\n",
       "      <th>2</th>\n",
       "      <td>1439522</td>\n",
       "      <td>5.0</td>\n",
       "      <td>64.0</td>\n",
       "      <td>32.0</td>\n",
       "      <td>U</td>\n",
       "      <td>2.0</td>\n",
       "      <td>52467.79</td>\n",
       "      <td>6.0</td>\n",
       "      <td>9.0</td>\n",
       "    </tr>\n",
       "    <tr>\n",
       "      <th>3</th>\n",
       "      <td>1562045</td>\n",
       "      <td>16.0</td>\n",
       "      <td>198.0</td>\n",
       "      <td>49.0</td>\n",
       "      <td>M</td>\n",
       "      <td>2.0</td>\n",
       "      <td>67454.65</td>\n",
       "      <td>3.0</td>\n",
       "      <td>6.0</td>\n",
       "    </tr>\n",
       "    <tr>\n",
       "      <th>4</th>\n",
       "      <td>5126305</td>\n",
       "      <td>12.0</td>\n",
       "      <td>145.0</td>\n",
       "      <td>33.0</td>\n",
       "      <td>F</td>\n",
       "      <td>2.0</td>\n",
       "      <td>103671.75</td>\n",
       "      <td>0.0</td>\n",
       "      <td>3.0</td>\n",
       "    </tr>\n",
       "  </tbody>\n",
       "</table>\n",
       "</div>"
      ],
      "text/plain": [
       "   client_id  tenure_year  tenure_month   age gender  number_of_accounts  \\\n",
       "0     836976          6.0          73.0  60.5      U                 2.0   \n",
       "1    2304905          7.0          94.0  58.0      U                 2.0   \n",
       "2    1439522          5.0          64.0  32.0      U                 2.0   \n",
       "3    1562045         16.0         198.0  49.0      M                 2.0   \n",
       "4    5126305         12.0         145.0  33.0      F                 2.0   \n",
       "\n",
       "     balance  calls_6_mnth  logons_6_mnth  \n",
       "0   45105.30           6.0            9.0  \n",
       "1  110860.30           6.0            9.0  \n",
       "2   52467.79           6.0            9.0  \n",
       "3   67454.65           3.0            6.0  \n",
       "4  103671.75           0.0            3.0  "
      ]
     },
     "execution_count": 85,
     "metadata": {},
     "output_type": "execute_result"
    }
   ],
   "source": [
    "df1.head()"
   ]
  },
  {
   "cell_type": "code",
   "execution_count": 86,
   "id": "0c6a6f4a-693f-43bc-b39d-bdc25b439ccc",
   "metadata": {},
   "outputs": [
    {
     "data": {
      "text/plain": [
       "<bound method Series.unique of 0        U\n",
       "1        U\n",
       "2        U\n",
       "3        M\n",
       "4        F\n",
       "        ..\n",
       "70604    U\n",
       "70605    M\n",
       "70606    F\n",
       "70607    M\n",
       "70608    F\n",
       "Name: gender, Length: 70609, dtype: object>"
      ]
     },
     "execution_count": 86,
     "metadata": {},
     "output_type": "execute_result"
    }
   ],
   "source": [
    "#Checking gender values\n",
    "df1['gender'].unique"
   ]
  },
  {
   "cell_type": "code",
   "execution_count": 87,
   "id": "abf37ee4-c342-44da-84d2-888455f2ae52",
   "metadata": {},
   "outputs": [
    {
     "data": {
      "text/plain": [
       "array(['U', 'M', 'F', nan, 'X'], dtype=object)"
      ]
     },
     "execution_count": 87,
     "metadata": {},
     "output_type": "execute_result"
    }
   ],
   "source": [
    "df1.gender.unique()"
   ]
  },
  {
   "cell_type": "code",
   "execution_count": 89,
   "id": "f239c7ab-aa7d-4714-8f06-51b48fd43551",
   "metadata": {},
   "outputs": [
    {
     "data": {
      "text/plain": [
       "client_id               int64\n",
       "tenure_year           float64\n",
       "tenure_month          float64\n",
       "age                   float64\n",
       "gender                 object\n",
       "number_of_accounts    float64\n",
       "balance               float64\n",
       "calls_6_mnth          float64\n",
       "logons_6_mnth         float64\n",
       "dtype: object"
      ]
     },
     "execution_count": 89,
     "metadata": {},
     "output_type": "execute_result"
    }
   ],
   "source": [
    "df1.dtypes"
   ]
  },
  {
   "cell_type": "code",
   "execution_count": 90,
   "id": "0f19cbb7-ddf9-4859-b634-158273fbd3a5",
   "metadata": {},
   "outputs": [
    {
     "data": {
      "text/plain": [
       "client_id              0\n",
       "tenure_year           14\n",
       "tenure_month          14\n",
       "age                   15\n",
       "gender                14\n",
       "number_of_accounts    14\n",
       "balance               14\n",
       "calls_6_mnth          14\n",
       "logons_6_mnth         14\n",
       "dtype: int64"
      ]
     },
     "execution_count": 90,
     "metadata": {},
     "output_type": "execute_result"
    }
   ],
   "source": [
    "df1.isnull().sum()"
   ]
  },
  {
   "cell_type": "code",
   "execution_count": 91,
   "id": "98ecec86-172e-41e8-83f7-0176871b5f05",
   "metadata": {},
   "outputs": [
    {
     "data": {
      "text/html": [
       "<div>\n",
       "<style scoped>\n",
       "    .dataframe tbody tr th:only-of-type {\n",
       "        vertical-align: middle;\n",
       "    }\n",
       "\n",
       "    .dataframe tbody tr th {\n",
       "        vertical-align: top;\n",
       "    }\n",
       "\n",
       "    .dataframe thead th {\n",
       "        text-align: right;\n",
       "    }\n",
       "</style>\n",
       "<table border=\"1\" class=\"dataframe\">\n",
       "  <thead>\n",
       "    <tr style=\"text-align: right;\">\n",
       "      <th></th>\n",
       "      <th>client_id</th>\n",
       "      <th>Variation</th>\n",
       "    </tr>\n",
       "  </thead>\n",
       "  <tbody>\n",
       "    <tr>\n",
       "      <th>0</th>\n",
       "      <td>9988021</td>\n",
       "      <td>Test</td>\n",
       "    </tr>\n",
       "    <tr>\n",
       "      <th>1</th>\n",
       "      <td>8320017</td>\n",
       "      <td>Test</td>\n",
       "    </tr>\n",
       "    <tr>\n",
       "      <th>2</th>\n",
       "      <td>4033851</td>\n",
       "      <td>Control</td>\n",
       "    </tr>\n",
       "    <tr>\n",
       "      <th>3</th>\n",
       "      <td>1982004</td>\n",
       "      <td>Test</td>\n",
       "    </tr>\n",
       "    <tr>\n",
       "      <th>4</th>\n",
       "      <td>9294070</td>\n",
       "      <td>Control</td>\n",
       "    </tr>\n",
       "  </tbody>\n",
       "</table>\n",
       "</div>"
      ],
      "text/plain": [
       "   client_id Variation\n",
       "0    9988021      Test\n",
       "1    8320017      Test\n",
       "2    4033851   Control\n",
       "3    1982004      Test\n",
       "4    9294070   Control"
      ]
     },
     "execution_count": 91,
     "metadata": {},
     "output_type": "execute_result"
    }
   ],
   "source": [
    "df2 = pd.read_csv('https://raw.githubusercontent.com/houleye45/vanguard_ab_test_week5_project/main/data/raw/df_final_experiment_clients.txt')\n",
    "df2.head()"
   ]
  },
  {
   "cell_type": "code",
   "execution_count": 92,
   "id": "2b0965b4-0509-4250-a81a-8528050f819c",
   "metadata": {},
   "outputs": [
    {
     "data": {
      "text/plain": [
       "client_id     int64\n",
       "Variation    object\n",
       "dtype: object"
      ]
     },
     "execution_count": 92,
     "metadata": {},
     "output_type": "execute_result"
    }
   ],
   "source": [
    "df2.dtypes"
   ]
  },
  {
   "cell_type": "code",
   "execution_count": 93,
   "id": "ace772fa-d670-41f1-96ee-3547025ef06a",
   "metadata": {},
   "outputs": [
    {
     "data": {
      "text/plain": [
       "(70609, 2)"
      ]
     },
     "execution_count": 93,
     "metadata": {},
     "output_type": "execute_result"
    }
   ],
   "source": [
    "df2.shape"
   ]
  },
  {
   "cell_type": "code",
   "execution_count": 94,
   "id": "f9903734-9f88-4e8d-a4e2-e99a4ed605fc",
   "metadata": {},
   "outputs": [
    {
     "data": {
      "text/plain": [
       "client_id        0\n",
       "Variation    20109\n",
       "dtype: int64"
      ]
     },
     "execution_count": 94,
     "metadata": {},
     "output_type": "execute_result"
    }
   ],
   "source": [
    "df2.isnull().sum()"
   ]
  },
  {
   "cell_type": "code",
   "execution_count": 95,
   "id": "c3bc14a6-7085-47b7-825a-b377df196d39",
   "metadata": {},
   "outputs": [
    {
     "data": {
      "text/plain": [
       "(50500, 2)"
      ]
     },
     "execution_count": 95,
     "metadata": {},
     "output_type": "execute_result"
    }
   ],
   "source": [
    "df2 = df2.dropna(axis=0)\n",
    "df2.shape"
   ]
  },
  {
   "cell_type": "code",
   "execution_count": 96,
   "id": "daa5b448-0476-4313-b521-f537b75b7ea5",
   "metadata": {},
   "outputs": [
    {
     "data": {
      "text/html": [
       "<div>\n",
       "<style scoped>\n",
       "    .dataframe tbody tr th:only-of-type {\n",
       "        vertical-align: middle;\n",
       "    }\n",
       "\n",
       "    .dataframe tbody tr th {\n",
       "        vertical-align: top;\n",
       "    }\n",
       "\n",
       "    .dataframe thead th {\n",
       "        text-align: right;\n",
       "    }\n",
       "</style>\n",
       "<table border=\"1\" class=\"dataframe\">\n",
       "  <thead>\n",
       "    <tr style=\"text-align: right;\">\n",
       "      <th></th>\n",
       "      <th>client_id</th>\n",
       "      <th>visitor_id</th>\n",
       "      <th>visit_id</th>\n",
       "      <th>process_step</th>\n",
       "      <th>date_time</th>\n",
       "    </tr>\n",
       "  </thead>\n",
       "  <tbody>\n",
       "    <tr>\n",
       "      <th>0</th>\n",
       "      <td>9988021</td>\n",
       "      <td>580560515_7732621733</td>\n",
       "      <td>781255054_21935453173_531117</td>\n",
       "      <td>step_3</td>\n",
       "      <td>2017-04-17 15:27:07</td>\n",
       "    </tr>\n",
       "    <tr>\n",
       "      <th>1</th>\n",
       "      <td>9988021</td>\n",
       "      <td>580560515_7732621733</td>\n",
       "      <td>781255054_21935453173_531117</td>\n",
       "      <td>step_2</td>\n",
       "      <td>2017-04-17 15:26:51</td>\n",
       "    </tr>\n",
       "    <tr>\n",
       "      <th>2</th>\n",
       "      <td>9988021</td>\n",
       "      <td>580560515_7732621733</td>\n",
       "      <td>781255054_21935453173_531117</td>\n",
       "      <td>step_3</td>\n",
       "      <td>2017-04-17 15:19:22</td>\n",
       "    </tr>\n",
       "    <tr>\n",
       "      <th>3</th>\n",
       "      <td>9988021</td>\n",
       "      <td>580560515_7732621733</td>\n",
       "      <td>781255054_21935453173_531117</td>\n",
       "      <td>step_2</td>\n",
       "      <td>2017-04-17 15:19:13</td>\n",
       "    </tr>\n",
       "    <tr>\n",
       "      <th>4</th>\n",
       "      <td>9988021</td>\n",
       "      <td>580560515_7732621733</td>\n",
       "      <td>781255054_21935453173_531117</td>\n",
       "      <td>step_3</td>\n",
       "      <td>2017-04-17 15:18:04</td>\n",
       "    </tr>\n",
       "  </tbody>\n",
       "</table>\n",
       "</div>"
      ],
      "text/plain": [
       "   client_id            visitor_id                      visit_id process_step  \\\n",
       "0    9988021  580560515_7732621733  781255054_21935453173_531117       step_3   \n",
       "1    9988021  580560515_7732621733  781255054_21935453173_531117       step_2   \n",
       "2    9988021  580560515_7732621733  781255054_21935453173_531117       step_3   \n",
       "3    9988021  580560515_7732621733  781255054_21935453173_531117       step_2   \n",
       "4    9988021  580560515_7732621733  781255054_21935453173_531117       step_3   \n",
       "\n",
       "             date_time  \n",
       "0  2017-04-17 15:27:07  \n",
       "1  2017-04-17 15:26:51  \n",
       "2  2017-04-17 15:19:22  \n",
       "3  2017-04-17 15:19:13  \n",
       "4  2017-04-17 15:18:04  "
      ]
     },
     "execution_count": 96,
     "metadata": {},
     "output_type": "execute_result"
    }
   ],
   "source": [
    "df3 = pd.read_csv('https://raw.githubusercontent.com/houleye45/vanguard_ab_test_week5_project/main/data/raw/df_final_web_data_pt_1.txt')\n",
    "df3.head()"
   ]
  },
  {
   "cell_type": "code",
   "execution_count": 97,
   "id": "7c1a4e55-a3af-47b1-9ec0-6818b228d918",
   "metadata": {},
   "outputs": [
    {
     "data": {
      "text/plain": [
       "(343141, 5)"
      ]
     },
     "execution_count": 97,
     "metadata": {},
     "output_type": "execute_result"
    }
   ],
   "source": [
    "df3.shape"
   ]
  },
  {
   "cell_type": "code",
   "execution_count": 98,
   "id": "bc0c2e49-8e31-4b3e-ae68-8ac6cb147fa9",
   "metadata": {},
   "outputs": [
    {
     "data": {
      "text/plain": [
       "client_id       0\n",
       "visitor_id      0\n",
       "visit_id        0\n",
       "process_step    0\n",
       "date_time       0\n",
       "dtype: int64"
      ]
     },
     "execution_count": 98,
     "metadata": {},
     "output_type": "execute_result"
    }
   ],
   "source": [
    "df3.isnull().sum()"
   ]
  },
  {
   "cell_type": "code",
   "execution_count": 99,
   "id": "e5757c23-8dcf-468a-983e-823ceac70ad6",
   "metadata": {},
   "outputs": [
    {
     "data": {
      "text/plain": [
       "2095"
      ]
     },
     "execution_count": 99,
     "metadata": {},
     "output_type": "execute_result"
    }
   ],
   "source": [
    "df3.duplicated().sum()"
   ]
  },
  {
   "cell_type": "code",
   "execution_count": 100,
   "id": "080c17f6-c1b3-4e1f-addd-2708dd33253e",
   "metadata": {},
   "outputs": [
    {
     "data": {
      "text/plain": [
       "(341046, 5)"
      ]
     },
     "execution_count": 100,
     "metadata": {},
     "output_type": "execute_result"
    }
   ],
   "source": [
    "df3 = df3.drop_duplicates()\n",
    "df3.shape"
   ]
  },
  {
   "cell_type": "code",
   "execution_count": 101,
   "id": "3fbf031e-c777-4430-bfad-8a9abf2977f8",
   "metadata": {},
   "outputs": [
    {
     "data": {
      "text/plain": [
       "client_id        int64\n",
       "visitor_id      object\n",
       "visit_id        object\n",
       "process_step    object\n",
       "date_time       object\n",
       "dtype: object"
      ]
     },
     "execution_count": 101,
     "metadata": {},
     "output_type": "execute_result"
    }
   ],
   "source": [
    "df3.dtypes"
   ]
  },
  {
   "cell_type": "code",
   "execution_count": 102,
   "id": "18eff7f3-9a84-40ee-afc2-8eafa2aa160c",
   "metadata": {},
   "outputs": [
    {
     "data": {
      "text/plain": [
       "client_id                int64\n",
       "visitor_id              object\n",
       "visit_id                object\n",
       "process_step            object\n",
       "date_time       datetime64[ns]\n",
       "dtype: object"
      ]
     },
     "execution_count": 102,
     "metadata": {},
     "output_type": "execute_result"
    }
   ],
   "source": [
    "df3['date_time'] = pd.to_datetime(df3['date_time'])\n",
    "df3.dtypes"
   ]
  },
  {
   "cell_type": "code",
   "execution_count": 103,
   "id": "9554ff0f-3e01-4944-86d5-e3f23aa30fcb",
   "metadata": {},
   "outputs": [
    {
     "data": {
      "text/html": [
       "<div>\n",
       "<style scoped>\n",
       "    .dataframe tbody tr th:only-of-type {\n",
       "        vertical-align: middle;\n",
       "    }\n",
       "\n",
       "    .dataframe tbody tr th {\n",
       "        vertical-align: top;\n",
       "    }\n",
       "\n",
       "    .dataframe thead th {\n",
       "        text-align: right;\n",
       "    }\n",
       "</style>\n",
       "<table border=\"1\" class=\"dataframe\">\n",
       "  <thead>\n",
       "    <tr style=\"text-align: right;\">\n",
       "      <th></th>\n",
       "      <th>client_id</th>\n",
       "      <th>visitor_id</th>\n",
       "      <th>visit_id</th>\n",
       "      <th>process_step</th>\n",
       "      <th>date_time</th>\n",
       "    </tr>\n",
       "  </thead>\n",
       "  <tbody>\n",
       "    <tr>\n",
       "      <th>0</th>\n",
       "      <td>763412</td>\n",
       "      <td>601952081_10457207388</td>\n",
       "      <td>397475557_40440946728_419634</td>\n",
       "      <td>confirm</td>\n",
       "      <td>2017-06-06 08:56:00</td>\n",
       "    </tr>\n",
       "    <tr>\n",
       "      <th>1</th>\n",
       "      <td>6019349</td>\n",
       "      <td>442094451_91531546617</td>\n",
       "      <td>154620534_35331068705_522317</td>\n",
       "      <td>confirm</td>\n",
       "      <td>2017-06-01 11:59:27</td>\n",
       "    </tr>\n",
       "    <tr>\n",
       "      <th>2</th>\n",
       "      <td>6019349</td>\n",
       "      <td>442094451_91531546617</td>\n",
       "      <td>154620534_35331068705_522317</td>\n",
       "      <td>step_3</td>\n",
       "      <td>2017-06-01 11:58:48</td>\n",
       "    </tr>\n",
       "    <tr>\n",
       "      <th>3</th>\n",
       "      <td>6019349</td>\n",
       "      <td>442094451_91531546617</td>\n",
       "      <td>154620534_35331068705_522317</td>\n",
       "      <td>step_2</td>\n",
       "      <td>2017-06-01 11:58:08</td>\n",
       "    </tr>\n",
       "    <tr>\n",
       "      <th>4</th>\n",
       "      <td>6019349</td>\n",
       "      <td>442094451_91531546617</td>\n",
       "      <td>154620534_35331068705_522317</td>\n",
       "      <td>step_1</td>\n",
       "      <td>2017-06-01 11:57:58</td>\n",
       "    </tr>\n",
       "  </tbody>\n",
       "</table>\n",
       "</div>"
      ],
      "text/plain": [
       "   client_id             visitor_id                      visit_id  \\\n",
       "0     763412  601952081_10457207388  397475557_40440946728_419634   \n",
       "1    6019349  442094451_91531546617  154620534_35331068705_522317   \n",
       "2    6019349  442094451_91531546617  154620534_35331068705_522317   \n",
       "3    6019349  442094451_91531546617  154620534_35331068705_522317   \n",
       "4    6019349  442094451_91531546617  154620534_35331068705_522317   \n",
       "\n",
       "  process_step            date_time  \n",
       "0      confirm  2017-06-06 08:56:00  \n",
       "1      confirm  2017-06-01 11:59:27  \n",
       "2       step_3  2017-06-01 11:58:48  \n",
       "3       step_2  2017-06-01 11:58:08  \n",
       "4       step_1  2017-06-01 11:57:58  "
      ]
     },
     "execution_count": 103,
     "metadata": {},
     "output_type": "execute_result"
    }
   ],
   "source": [
    "df4 = pd.read_csv('https://raw.githubusercontent.com/houleye45/vanguard_ab_test_week5_project/main/data/raw/df_final_web_data_pt_2.txt')\n",
    "df4.head()"
   ]
  },
  {
   "cell_type": "code",
   "execution_count": 104,
   "id": "7ce110b9-b666-4536-b262-e048fa540424",
   "metadata": {},
   "outputs": [
    {
     "data": {
      "text/plain": [
       "(412264, 5)"
      ]
     },
     "execution_count": 104,
     "metadata": {},
     "output_type": "execute_result"
    }
   ],
   "source": [
    "df4.shape"
   ]
  },
  {
   "cell_type": "code",
   "execution_count": 105,
   "id": "8652a1f8-5216-4c7a-b5fe-977a1b6ec36f",
   "metadata": {},
   "outputs": [
    {
     "data": {
      "text/plain": [
       "client_id       0\n",
       "visitor_id      0\n",
       "visit_id        0\n",
       "process_step    0\n",
       "date_time       0\n",
       "dtype: int64"
      ]
     },
     "execution_count": 105,
     "metadata": {},
     "output_type": "execute_result"
    }
   ],
   "source": [
    "df4.isnull().sum()"
   ]
  },
  {
   "cell_type": "code",
   "execution_count": 106,
   "id": "afdfeb37-d528-4a8f-8de3-0ea433227a19",
   "metadata": {},
   "outputs": [
    {
     "data": {
      "text/plain": [
       "8669"
      ]
     },
     "execution_count": 106,
     "metadata": {},
     "output_type": "execute_result"
    }
   ],
   "source": [
    "df4.duplicated().sum()"
   ]
  },
  {
   "cell_type": "code",
   "execution_count": 107,
   "id": "6964a833-2cca-4d47-88dc-b4cfeccb3a20",
   "metadata": {},
   "outputs": [],
   "source": [
    "df4 = df4.drop_duplicates()"
   ]
  },
  {
   "cell_type": "code",
   "execution_count": 108,
   "id": "b27ad19a-3f37-41f3-9326-ea1a8754412a",
   "metadata": {},
   "outputs": [
    {
     "data": {
      "text/plain": [
       "(403595, 5)"
      ]
     },
     "execution_count": 108,
     "metadata": {},
     "output_type": "execute_result"
    }
   ],
   "source": [
    "df4.shape"
   ]
  },
  {
   "cell_type": "code",
   "execution_count": 109,
   "id": "f19cc53d-c55a-45ef-8966-6b565d9da163",
   "metadata": {},
   "outputs": [
    {
     "data": {
      "text/plain": [
       "client_id        int64\n",
       "visitor_id      object\n",
       "visit_id        object\n",
       "process_step    object\n",
       "date_time       object\n",
       "dtype: object"
      ]
     },
     "execution_count": 109,
     "metadata": {},
     "output_type": "execute_result"
    }
   ],
   "source": [
    "df4.dtypes"
   ]
  },
  {
   "cell_type": "code",
   "execution_count": 110,
   "id": "d6d43f80-1166-43cf-96b7-7c10548f74eb",
   "metadata": {},
   "outputs": [],
   "source": [
    "df4['date_time'] = pd.to_datetime(df4['date_time'])"
   ]
  },
  {
   "cell_type": "code",
   "execution_count": 111,
   "id": "2c18fa9a-225c-478f-b708-874809edb020",
   "metadata": {},
   "outputs": [
    {
     "data": {
      "text/plain": [
       "client_id                int64\n",
       "visitor_id              object\n",
       "visit_id                object\n",
       "process_step            object\n",
       "date_time       datetime64[ns]\n",
       "dtype: object"
      ]
     },
     "execution_count": 111,
     "metadata": {},
     "output_type": "execute_result"
    }
   ],
   "source": [
    "df4.dtypes"
   ]
  },
  {
   "cell_type": "code",
   "execution_count": 112,
   "id": "294592d6-fa6c-41d7-8325-981a3817d18a",
   "metadata": {},
   "outputs": [
    {
     "data": {
      "text/html": [
       "<div>\n",
       "<style scoped>\n",
       "    .dataframe tbody tr th:only-of-type {\n",
       "        vertical-align: middle;\n",
       "    }\n",
       "\n",
       "    .dataframe tbody tr th {\n",
       "        vertical-align: top;\n",
       "    }\n",
       "\n",
       "    .dataframe thead th {\n",
       "        text-align: right;\n",
       "    }\n",
       "</style>\n",
       "<table border=\"1\" class=\"dataframe\">\n",
       "  <thead>\n",
       "    <tr style=\"text-align: right;\">\n",
       "      <th></th>\n",
       "      <th>client_id</th>\n",
       "      <th>visitor_id</th>\n",
       "      <th>visit_id</th>\n",
       "      <th>process_step</th>\n",
       "      <th>date_time</th>\n",
       "    </tr>\n",
       "  </thead>\n",
       "  <tbody>\n",
       "    <tr>\n",
       "      <th>0</th>\n",
       "      <td>763412</td>\n",
       "      <td>601952081_10457207388</td>\n",
       "      <td>397475557_40440946728_419634</td>\n",
       "      <td>confirm</td>\n",
       "      <td>2017-06-06 08:56:00</td>\n",
       "    </tr>\n",
       "    <tr>\n",
       "      <th>1</th>\n",
       "      <td>6019349</td>\n",
       "      <td>442094451_91531546617</td>\n",
       "      <td>154620534_35331068705_522317</td>\n",
       "      <td>confirm</td>\n",
       "      <td>2017-06-01 11:59:27</td>\n",
       "    </tr>\n",
       "    <tr>\n",
       "      <th>2</th>\n",
       "      <td>6019349</td>\n",
       "      <td>442094451_91531546617</td>\n",
       "      <td>154620534_35331068705_522317</td>\n",
       "      <td>step_3</td>\n",
       "      <td>2017-06-01 11:58:48</td>\n",
       "    </tr>\n",
       "    <tr>\n",
       "      <th>3</th>\n",
       "      <td>6019349</td>\n",
       "      <td>442094451_91531546617</td>\n",
       "      <td>154620534_35331068705_522317</td>\n",
       "      <td>step_2</td>\n",
       "      <td>2017-06-01 11:58:08</td>\n",
       "    </tr>\n",
       "    <tr>\n",
       "      <th>4</th>\n",
       "      <td>6019349</td>\n",
       "      <td>442094451_91531546617</td>\n",
       "      <td>154620534_35331068705_522317</td>\n",
       "      <td>step_1</td>\n",
       "      <td>2017-06-01 11:57:58</td>\n",
       "    </tr>\n",
       "  </tbody>\n",
       "</table>\n",
       "</div>"
      ],
      "text/plain": [
       "   client_id             visitor_id                      visit_id  \\\n",
       "0     763412  601952081_10457207388  397475557_40440946728_419634   \n",
       "1    6019349  442094451_91531546617  154620534_35331068705_522317   \n",
       "2    6019349  442094451_91531546617  154620534_35331068705_522317   \n",
       "3    6019349  442094451_91531546617  154620534_35331068705_522317   \n",
       "4    6019349  442094451_91531546617  154620534_35331068705_522317   \n",
       "\n",
       "  process_step           date_time  \n",
       "0      confirm 2017-06-06 08:56:00  \n",
       "1      confirm 2017-06-01 11:59:27  \n",
       "2       step_3 2017-06-01 11:58:48  \n",
       "3       step_2 2017-06-01 11:58:08  \n",
       "4       step_1 2017-06-01 11:57:58  "
      ]
     },
     "execution_count": 112,
     "metadata": {},
     "output_type": "execute_result"
    }
   ],
   "source": [
    "df4.head()"
   ]
  },
  {
   "cell_type": "code",
   "execution_count": 113,
   "id": "48e0704a-b5c2-4bf3-ba9c-37437bcab65c",
   "metadata": {},
   "outputs": [],
   "source": [
    "df5 = pd.concat([df3, df4], axis=0)"
   ]
  },
  {
   "cell_type": "code",
   "execution_count": 114,
   "id": "b2200150",
   "metadata": {},
   "outputs": [
    {
     "data": {
      "text/plain": [
       "(744641, 5)"
      ]
     },
     "execution_count": 114,
     "metadata": {},
     "output_type": "execute_result"
    }
   ],
   "source": [
    "df5.shape"
   ]
  },
  {
   "cell_type": "code",
   "execution_count": 115,
   "id": "41b80f59",
   "metadata": {},
   "outputs": [
    {
     "data": {
      "text/plain": [
       "client_id       0\n",
       "visitor_id      0\n",
       "visit_id        0\n",
       "process_step    0\n",
       "date_time       0\n",
       "dtype: int64"
      ]
     },
     "execution_count": 115,
     "metadata": {},
     "output_type": "execute_result"
    }
   ],
   "source": [
    "df5.isna().sum()"
   ]
  },
  {
   "cell_type": "code",
   "execution_count": 116,
   "id": "3d746ec1-450e-4f79-827f-5bc898b3882d",
   "metadata": {},
   "outputs": [
    {
     "data": {
      "text/html": [
       "<div>\n",
       "<style scoped>\n",
       "    .dataframe tbody tr th:only-of-type {\n",
       "        vertical-align: middle;\n",
       "    }\n",
       "\n",
       "    .dataframe tbody tr th {\n",
       "        vertical-align: top;\n",
       "    }\n",
       "\n",
       "    .dataframe thead th {\n",
       "        text-align: right;\n",
       "    }\n",
       "</style>\n",
       "<table border=\"1\" class=\"dataframe\">\n",
       "  <thead>\n",
       "    <tr style=\"text-align: right;\">\n",
       "      <th></th>\n",
       "      <th>client_id</th>\n",
       "      <th>visitor_id</th>\n",
       "      <th>visit_id</th>\n",
       "      <th>process_step</th>\n",
       "      <th>date_time</th>\n",
       "    </tr>\n",
       "  </thead>\n",
       "  <tbody>\n",
       "    <tr>\n",
       "      <th>0</th>\n",
       "      <td>9988021</td>\n",
       "      <td>580560515_7732621733</td>\n",
       "      <td>781255054_21935453173_531117</td>\n",
       "      <td>step_3</td>\n",
       "      <td>2017-04-17 15:27:07</td>\n",
       "    </tr>\n",
       "    <tr>\n",
       "      <th>1</th>\n",
       "      <td>9988021</td>\n",
       "      <td>580560515_7732621733</td>\n",
       "      <td>781255054_21935453173_531117</td>\n",
       "      <td>step_2</td>\n",
       "      <td>2017-04-17 15:26:51</td>\n",
       "    </tr>\n",
       "    <tr>\n",
       "      <th>2</th>\n",
       "      <td>9988021</td>\n",
       "      <td>580560515_7732621733</td>\n",
       "      <td>781255054_21935453173_531117</td>\n",
       "      <td>step_3</td>\n",
       "      <td>2017-04-17 15:19:22</td>\n",
       "    </tr>\n",
       "    <tr>\n",
       "      <th>3</th>\n",
       "      <td>9988021</td>\n",
       "      <td>580560515_7732621733</td>\n",
       "      <td>781255054_21935453173_531117</td>\n",
       "      <td>step_2</td>\n",
       "      <td>2017-04-17 15:19:13</td>\n",
       "    </tr>\n",
       "    <tr>\n",
       "      <th>4</th>\n",
       "      <td>9988021</td>\n",
       "      <td>580560515_7732621733</td>\n",
       "      <td>781255054_21935453173_531117</td>\n",
       "      <td>step_3</td>\n",
       "      <td>2017-04-17 15:18:04</td>\n",
       "    </tr>\n",
       "  </tbody>\n",
       "</table>\n",
       "</div>"
      ],
      "text/plain": [
       "   client_id            visitor_id                      visit_id process_step  \\\n",
       "0    9988021  580560515_7732621733  781255054_21935453173_531117       step_3   \n",
       "1    9988021  580560515_7732621733  781255054_21935453173_531117       step_2   \n",
       "2    9988021  580560515_7732621733  781255054_21935453173_531117       step_3   \n",
       "3    9988021  580560515_7732621733  781255054_21935453173_531117       step_2   \n",
       "4    9988021  580560515_7732621733  781255054_21935453173_531117       step_3   \n",
       "\n",
       "            date_time  \n",
       "0 2017-04-17 15:27:07  \n",
       "1 2017-04-17 15:26:51  \n",
       "2 2017-04-17 15:19:22  \n",
       "3 2017-04-17 15:19:13  \n",
       "4 2017-04-17 15:18:04  "
      ]
     },
     "execution_count": 116,
     "metadata": {},
     "output_type": "execute_result"
    }
   ],
   "source": [
    "df5.head()"
   ]
  },
  {
   "cell_type": "code",
   "execution_count": 117,
   "id": "4b5b4a20",
   "metadata": {},
   "outputs": [
    {
     "data": {
      "text/plain": [
       "array(['step_3', 'step_2', 'step_1', 'start', 'confirm'], dtype=object)"
      ]
     },
     "execution_count": 117,
     "metadata": {},
     "output_type": "execute_result"
    }
   ],
   "source": [
    "df5['process_step'].unique()"
   ]
  },
  {
   "cell_type": "markdown",
   "id": "8c44ab08",
   "metadata": {},
   "source": [
    "### Filtering datetime column to keep only the last \"start\" time and the last confirmation step."
   ]
  },
  {
   "cell_type": "code",
   "execution_count": 118,
   "id": "a791a118",
   "metadata": {},
   "outputs": [],
   "source": [
    "df5_sorted = df5.sort_values(by=['client_id', 'date_time'], ascending=[True, False])"
   ]
  },
  {
   "cell_type": "code",
   "execution_count": 119,
   "id": "cd330cff",
   "metadata": {},
   "outputs": [
    {
     "data": {
      "text/html": [
       "<div>\n",
       "<style scoped>\n",
       "    .dataframe tbody tr th:only-of-type {\n",
       "        vertical-align: middle;\n",
       "    }\n",
       "\n",
       "    .dataframe tbody tr th {\n",
       "        vertical-align: top;\n",
       "    }\n",
       "\n",
       "    .dataframe thead th {\n",
       "        text-align: right;\n",
       "    }\n",
       "</style>\n",
       "<table border=\"1\" class=\"dataframe\">\n",
       "  <thead>\n",
       "    <tr style=\"text-align: right;\">\n",
       "      <th></th>\n",
       "      <th>visitor_id_start</th>\n",
       "      <th>visit_id_start</th>\n",
       "      <th>process_step_start</th>\n",
       "      <th>date_time_start</th>\n",
       "      <th>visitor_id_confirm</th>\n",
       "      <th>visit_id_confirm</th>\n",
       "      <th>process_step_confirm</th>\n",
       "      <th>date_time_confirm</th>\n",
       "      <th>visitor_id_step_1</th>\n",
       "      <th>visit_id_step_1</th>\n",
       "      <th>process_step_step_1</th>\n",
       "      <th>date_time_step_1</th>\n",
       "      <th>visitor_id_step_2</th>\n",
       "      <th>visit_id_step_2</th>\n",
       "      <th>process_step_step_2</th>\n",
       "      <th>date_time_step_2</th>\n",
       "      <th>visitor_id</th>\n",
       "      <th>visit_id</th>\n",
       "      <th>process_step</th>\n",
       "      <th>date_time</th>\n",
       "    </tr>\n",
       "    <tr>\n",
       "      <th>client_id</th>\n",
       "      <th></th>\n",
       "      <th></th>\n",
       "      <th></th>\n",
       "      <th></th>\n",
       "      <th></th>\n",
       "      <th></th>\n",
       "      <th></th>\n",
       "      <th></th>\n",
       "      <th></th>\n",
       "      <th></th>\n",
       "      <th></th>\n",
       "      <th></th>\n",
       "      <th></th>\n",
       "      <th></th>\n",
       "      <th></th>\n",
       "      <th></th>\n",
       "      <th></th>\n",
       "      <th></th>\n",
       "      <th></th>\n",
       "      <th></th>\n",
       "    </tr>\n",
       "  </thead>\n",
       "  <tbody>\n",
       "    <tr>\n",
       "      <th>169</th>\n",
       "      <td>201385055_71273495308</td>\n",
       "      <td>749567106_99161211863_557568</td>\n",
       "      <td>start</td>\n",
       "      <td>2017-04-12 20:19:36</td>\n",
       "      <td>201385055_71273495308</td>\n",
       "      <td>749567106_99161211863_557568</td>\n",
       "      <td>confirm</td>\n",
       "      <td>2017-04-12 20:23:09</td>\n",
       "      <td>201385055_71273495308</td>\n",
       "      <td>749567106_99161211863_557568</td>\n",
       "      <td>step_1</td>\n",
       "      <td>2017-04-12 20:19:45</td>\n",
       "      <td>201385055_71273495308</td>\n",
       "      <td>749567106_99161211863_557568</td>\n",
       "      <td>step_2</td>\n",
       "      <td>2017-04-12 20:20:31</td>\n",
       "      <td>201385055_71273495308</td>\n",
       "      <td>749567106_99161211863_557568</td>\n",
       "      <td>step_3</td>\n",
       "      <td>2017-04-12 20:22:05</td>\n",
       "    </tr>\n",
       "    <tr>\n",
       "      <th>546</th>\n",
       "      <td>475037402_89828530214</td>\n",
       "      <td>731811517_9330176838_94847</td>\n",
       "      <td>start</td>\n",
       "      <td>2017-06-17 10:03:29</td>\n",
       "      <td>475037402_89828530214</td>\n",
       "      <td>731811517_9330176838_94847</td>\n",
       "      <td>confirm</td>\n",
       "      <td>2017-06-17 10:05:42</td>\n",
       "      <td>475037402_89828530214</td>\n",
       "      <td>731811517_9330176838_94847</td>\n",
       "      <td>step_1</td>\n",
       "      <td>2017-06-17 10:03:39</td>\n",
       "      <td>475037402_89828530214</td>\n",
       "      <td>731811517_9330176838_94847</td>\n",
       "      <td>step_2</td>\n",
       "      <td>2017-06-17 10:03:52</td>\n",
       "      <td>475037402_89828530214</td>\n",
       "      <td>731811517_9330176838_94847</td>\n",
       "      <td>step_3</td>\n",
       "      <td>2017-06-17 10:05:19</td>\n",
       "    </tr>\n",
       "    <tr>\n",
       "      <th>555</th>\n",
       "      <td>402506806_56087378777</td>\n",
       "      <td>637149525_38041617439_716659</td>\n",
       "      <td>start</td>\n",
       "      <td>2017-04-15 12:57:56</td>\n",
       "      <td>402506806_56087378777</td>\n",
       "      <td>637149525_38041617439_716659</td>\n",
       "      <td>confirm</td>\n",
       "      <td>2017-04-15 13:00:34</td>\n",
       "      <td>402506806_56087378777</td>\n",
       "      <td>637149525_38041617439_716659</td>\n",
       "      <td>step_1</td>\n",
       "      <td>2017-04-15 12:58:03</td>\n",
       "      <td>402506806_56087378777</td>\n",
       "      <td>637149525_38041617439_716659</td>\n",
       "      <td>step_2</td>\n",
       "      <td>2017-04-15 12:58:35</td>\n",
       "      <td>402506806_56087378777</td>\n",
       "      <td>637149525_38041617439_716659</td>\n",
       "      <td>step_3</td>\n",
       "      <td>2017-04-15 13:00:14</td>\n",
       "    </tr>\n",
       "    <tr>\n",
       "      <th>647</th>\n",
       "      <td>66758770_53988066587</td>\n",
       "      <td>40369564_40101682850_311847</td>\n",
       "      <td>start</td>\n",
       "      <td>2017-04-12 15:41:28</td>\n",
       "      <td>66758770_53988066587</td>\n",
       "      <td>40369564_40101682850_311847</td>\n",
       "      <td>confirm</td>\n",
       "      <td>2017-04-12 15:47:45</td>\n",
       "      <td>66758770_53988066587</td>\n",
       "      <td>40369564_40101682850_311847</td>\n",
       "      <td>step_1</td>\n",
       "      <td>2017-04-12 15:41:35</td>\n",
       "      <td>66758770_53988066587</td>\n",
       "      <td>40369564_40101682850_311847</td>\n",
       "      <td>step_2</td>\n",
       "      <td>2017-04-12 15:41:53</td>\n",
       "      <td>66758770_53988066587</td>\n",
       "      <td>40369564_40101682850_311847</td>\n",
       "      <td>step_3</td>\n",
       "      <td>2017-04-12 15:45:02</td>\n",
       "    </tr>\n",
       "    <tr>\n",
       "      <th>722</th>\n",
       "      <td>919259913_64837298108</td>\n",
       "      <td>984487154_55831795985_521110</td>\n",
       "      <td>start</td>\n",
       "      <td>2017-04-19 14:56:16</td>\n",
       "      <td>919259913_64837298108</td>\n",
       "      <td>984487154_55831795985_521110</td>\n",
       "      <td>confirm</td>\n",
       "      <td>2017-04-19 15:00:09</td>\n",
       "      <td>919259913_64837298108</td>\n",
       "      <td>984487154_55831795985_521110</td>\n",
       "      <td>step_1</td>\n",
       "      <td>2017-04-19 14:56:18</td>\n",
       "      <td>919259913_64837298108</td>\n",
       "      <td>984487154_55831795985_521110</td>\n",
       "      <td>step_2</td>\n",
       "      <td>2017-04-19 14:56:37</td>\n",
       "      <td>919259913_64837298108</td>\n",
       "      <td>984487154_55831795985_521110</td>\n",
       "      <td>step_3</td>\n",
       "      <td>2017-04-19 14:57:27</td>\n",
       "    </tr>\n",
       "  </tbody>\n",
       "</table>\n",
       "</div>"
      ],
      "text/plain": [
       "                visitor_id_start                visit_id_start  \\\n",
       "client_id                                                        \n",
       "169        201385055_71273495308  749567106_99161211863_557568   \n",
       "546        475037402_89828530214    731811517_9330176838_94847   \n",
       "555        402506806_56087378777  637149525_38041617439_716659   \n",
       "647         66758770_53988066587   40369564_40101682850_311847   \n",
       "722        919259913_64837298108  984487154_55831795985_521110   \n",
       "\n",
       "          process_step_start     date_time_start     visitor_id_confirm  \\\n",
       "client_id                                                                 \n",
       "169                    start 2017-04-12 20:19:36  201385055_71273495308   \n",
       "546                    start 2017-06-17 10:03:29  475037402_89828530214   \n",
       "555                    start 2017-04-15 12:57:56  402506806_56087378777   \n",
       "647                    start 2017-04-12 15:41:28   66758770_53988066587   \n",
       "722                    start 2017-04-19 14:56:16  919259913_64837298108   \n",
       "\n",
       "                       visit_id_confirm process_step_confirm  \\\n",
       "client_id                                                      \n",
       "169        749567106_99161211863_557568              confirm   \n",
       "546          731811517_9330176838_94847              confirm   \n",
       "555        637149525_38041617439_716659              confirm   \n",
       "647         40369564_40101682850_311847              confirm   \n",
       "722        984487154_55831795985_521110              confirm   \n",
       "\n",
       "            date_time_confirm      visitor_id_step_1  \\\n",
       "client_id                                              \n",
       "169       2017-04-12 20:23:09  201385055_71273495308   \n",
       "546       2017-06-17 10:05:42  475037402_89828530214   \n",
       "555       2017-04-15 13:00:34  402506806_56087378777   \n",
       "647       2017-04-12 15:47:45   66758770_53988066587   \n",
       "722       2017-04-19 15:00:09  919259913_64837298108   \n",
       "\n",
       "                        visit_id_step_1 process_step_step_1  \\\n",
       "client_id                                                     \n",
       "169        749567106_99161211863_557568              step_1   \n",
       "546          731811517_9330176838_94847              step_1   \n",
       "555        637149525_38041617439_716659              step_1   \n",
       "647         40369564_40101682850_311847              step_1   \n",
       "722        984487154_55831795985_521110              step_1   \n",
       "\n",
       "             date_time_step_1      visitor_id_step_2  \\\n",
       "client_id                                              \n",
       "169       2017-04-12 20:19:45  201385055_71273495308   \n",
       "546       2017-06-17 10:03:39  475037402_89828530214   \n",
       "555       2017-04-15 12:58:03  402506806_56087378777   \n",
       "647       2017-04-12 15:41:35   66758770_53988066587   \n",
       "722       2017-04-19 14:56:18  919259913_64837298108   \n",
       "\n",
       "                        visit_id_step_2 process_step_step_2  \\\n",
       "client_id                                                     \n",
       "169        749567106_99161211863_557568              step_2   \n",
       "546          731811517_9330176838_94847              step_2   \n",
       "555        637149525_38041617439_716659              step_2   \n",
       "647         40369564_40101682850_311847              step_2   \n",
       "722        984487154_55831795985_521110              step_2   \n",
       "\n",
       "             date_time_step_2             visitor_id  \\\n",
       "client_id                                              \n",
       "169       2017-04-12 20:20:31  201385055_71273495308   \n",
       "546       2017-06-17 10:03:52  475037402_89828530214   \n",
       "555       2017-04-15 12:58:35  402506806_56087378777   \n",
       "647       2017-04-12 15:41:53   66758770_53988066587   \n",
       "722       2017-04-19 14:56:37  919259913_64837298108   \n",
       "\n",
       "                               visit_id process_step           date_time  \n",
       "client_id                                                                 \n",
       "169        749567106_99161211863_557568       step_3 2017-04-12 20:22:05  \n",
       "546          731811517_9330176838_94847       step_3 2017-06-17 10:05:19  \n",
       "555        637149525_38041617439_716659       step_3 2017-04-15 13:00:14  \n",
       "647         40369564_40101682850_311847       step_3 2017-04-12 15:45:02  \n",
       "722        984487154_55831795985_521110       step_3 2017-04-19 14:57:27  "
      ]
     },
     "execution_count": 119,
     "metadata": {},
     "output_type": "execute_result"
    }
   ],
   "source": [
    "# Filter lines to retain only the last occurrence of “start” for each customer\n",
    "start_last = df5_sorted[df5_sorted['process_step'] == 'start'].groupby('client_id').first()\n",
    "\n",
    "step1_last = df5_sorted[df5_sorted['process_step'] == 'step_1'].groupby('client_id').first()\n",
    "\n",
    "step2_last = df5_sorted[df5_sorted['process_step'] == 'step_2'].groupby('client_id').first()\n",
    "\n",
    "step3_last = df5_sorted[df5_sorted['process_step'] == 'step_3'].groupby('client_id').first()\n",
    "\n",
    "# Filter lines to retain only the last occurrence of “confirm” for each customer\n",
    "confirm_last = df5_sorted[df5_sorted['process_step'] == 'confirm'].groupby('client_id').first()\n",
    "\n",
    "digital_footprints = start_last.merge(confirm_last, on='client_id', suffixes=('_start', '_confirm')).merge(step1_last, on='client_id',suffixes=('confirm','_step_1')).merge(step2_last, on='client_id',suffixes=('_step_1','_step_2')).merge(step3_last, on='client_id',suffixes=('_step_2','_step_3'))\n",
    "\n",
    "digital_footprints.head()"
   ]
  },
  {
   "cell_type": "code",
   "execution_count": 120,
   "id": "e3237be6",
   "metadata": {},
   "outputs": [],
   "source": [
    "digital_footprints = digital_footprints.drop(['visitor_id_confirm','visit_id_confirm', 'visitor_id_step_1', 'visit_id_step_1', 'visitor_id_step_2', 'visit_id_step_2', 'visitor_id','visit_id'], axis=1)"
   ]
  },
  {
   "cell_type": "code",
   "execution_count": 121,
   "id": "7121a44e",
   "metadata": {},
   "outputs": [],
   "source": [
    "digital_footprints = digital_footprints.rename(columns={\"process_step\": \"process_step_3\", \"date_time\": \"date_time_step3\"})"
   ]
  },
  {
   "cell_type": "code",
   "execution_count": 122,
   "id": "f988821c",
   "metadata": {},
   "outputs": [
    {
     "data": {
      "text/html": [
       "<div>\n",
       "<style scoped>\n",
       "    .dataframe tbody tr th:only-of-type {\n",
       "        vertical-align: middle;\n",
       "    }\n",
       "\n",
       "    .dataframe tbody tr th {\n",
       "        vertical-align: top;\n",
       "    }\n",
       "\n",
       "    .dataframe thead th {\n",
       "        text-align: right;\n",
       "    }\n",
       "</style>\n",
       "<table border=\"1\" class=\"dataframe\">\n",
       "  <thead>\n",
       "    <tr style=\"text-align: right;\">\n",
       "      <th></th>\n",
       "      <th>visitor_id_start</th>\n",
       "      <th>visit_id_start</th>\n",
       "      <th>process_step_start</th>\n",
       "      <th>date_time_start</th>\n",
       "      <th>process_step_confirm</th>\n",
       "      <th>date_time_confirm</th>\n",
       "      <th>process_step_step_1</th>\n",
       "      <th>date_time_step_1</th>\n",
       "      <th>process_step_step_2</th>\n",
       "      <th>date_time_step_2</th>\n",
       "      <th>process_step_3</th>\n",
       "      <th>date_time_step3</th>\n",
       "    </tr>\n",
       "    <tr>\n",
       "      <th>client_id</th>\n",
       "      <th></th>\n",
       "      <th></th>\n",
       "      <th></th>\n",
       "      <th></th>\n",
       "      <th></th>\n",
       "      <th></th>\n",
       "      <th></th>\n",
       "      <th></th>\n",
       "      <th></th>\n",
       "      <th></th>\n",
       "      <th></th>\n",
       "      <th></th>\n",
       "    </tr>\n",
       "  </thead>\n",
       "  <tbody>\n",
       "    <tr>\n",
       "      <th>169</th>\n",
       "      <td>201385055_71273495308</td>\n",
       "      <td>749567106_99161211863_557568</td>\n",
       "      <td>start</td>\n",
       "      <td>2017-04-12 20:19:36</td>\n",
       "      <td>confirm</td>\n",
       "      <td>2017-04-12 20:23:09</td>\n",
       "      <td>step_1</td>\n",
       "      <td>2017-04-12 20:19:45</td>\n",
       "      <td>step_2</td>\n",
       "      <td>2017-04-12 20:20:31</td>\n",
       "      <td>step_3</td>\n",
       "      <td>2017-04-12 20:22:05</td>\n",
       "    </tr>\n",
       "    <tr>\n",
       "      <th>546</th>\n",
       "      <td>475037402_89828530214</td>\n",
       "      <td>731811517_9330176838_94847</td>\n",
       "      <td>start</td>\n",
       "      <td>2017-06-17 10:03:29</td>\n",
       "      <td>confirm</td>\n",
       "      <td>2017-06-17 10:05:42</td>\n",
       "      <td>step_1</td>\n",
       "      <td>2017-06-17 10:03:39</td>\n",
       "      <td>step_2</td>\n",
       "      <td>2017-06-17 10:03:52</td>\n",
       "      <td>step_3</td>\n",
       "      <td>2017-06-17 10:05:19</td>\n",
       "    </tr>\n",
       "    <tr>\n",
       "      <th>555</th>\n",
       "      <td>402506806_56087378777</td>\n",
       "      <td>637149525_38041617439_716659</td>\n",
       "      <td>start</td>\n",
       "      <td>2017-04-15 12:57:56</td>\n",
       "      <td>confirm</td>\n",
       "      <td>2017-04-15 13:00:34</td>\n",
       "      <td>step_1</td>\n",
       "      <td>2017-04-15 12:58:03</td>\n",
       "      <td>step_2</td>\n",
       "      <td>2017-04-15 12:58:35</td>\n",
       "      <td>step_3</td>\n",
       "      <td>2017-04-15 13:00:14</td>\n",
       "    </tr>\n",
       "    <tr>\n",
       "      <th>647</th>\n",
       "      <td>66758770_53988066587</td>\n",
       "      <td>40369564_40101682850_311847</td>\n",
       "      <td>start</td>\n",
       "      <td>2017-04-12 15:41:28</td>\n",
       "      <td>confirm</td>\n",
       "      <td>2017-04-12 15:47:45</td>\n",
       "      <td>step_1</td>\n",
       "      <td>2017-04-12 15:41:35</td>\n",
       "      <td>step_2</td>\n",
       "      <td>2017-04-12 15:41:53</td>\n",
       "      <td>step_3</td>\n",
       "      <td>2017-04-12 15:45:02</td>\n",
       "    </tr>\n",
       "    <tr>\n",
       "      <th>722</th>\n",
       "      <td>919259913_64837298108</td>\n",
       "      <td>984487154_55831795985_521110</td>\n",
       "      <td>start</td>\n",
       "      <td>2017-04-19 14:56:16</td>\n",
       "      <td>confirm</td>\n",
       "      <td>2017-04-19 15:00:09</td>\n",
       "      <td>step_1</td>\n",
       "      <td>2017-04-19 14:56:18</td>\n",
       "      <td>step_2</td>\n",
       "      <td>2017-04-19 14:56:37</td>\n",
       "      <td>step_3</td>\n",
       "      <td>2017-04-19 14:57:27</td>\n",
       "    </tr>\n",
       "  </tbody>\n",
       "</table>\n",
       "</div>"
      ],
      "text/plain": [
       "                visitor_id_start                visit_id_start  \\\n",
       "client_id                                                        \n",
       "169        201385055_71273495308  749567106_99161211863_557568   \n",
       "546        475037402_89828530214    731811517_9330176838_94847   \n",
       "555        402506806_56087378777  637149525_38041617439_716659   \n",
       "647         66758770_53988066587   40369564_40101682850_311847   \n",
       "722        919259913_64837298108  984487154_55831795985_521110   \n",
       "\n",
       "          process_step_start     date_time_start process_step_confirm  \\\n",
       "client_id                                                               \n",
       "169                    start 2017-04-12 20:19:36              confirm   \n",
       "546                    start 2017-06-17 10:03:29              confirm   \n",
       "555                    start 2017-04-15 12:57:56              confirm   \n",
       "647                    start 2017-04-12 15:41:28              confirm   \n",
       "722                    start 2017-04-19 14:56:16              confirm   \n",
       "\n",
       "            date_time_confirm process_step_step_1    date_time_step_1  \\\n",
       "client_id                                                               \n",
       "169       2017-04-12 20:23:09              step_1 2017-04-12 20:19:45   \n",
       "546       2017-06-17 10:05:42              step_1 2017-06-17 10:03:39   \n",
       "555       2017-04-15 13:00:34              step_1 2017-04-15 12:58:03   \n",
       "647       2017-04-12 15:47:45              step_1 2017-04-12 15:41:35   \n",
       "722       2017-04-19 15:00:09              step_1 2017-04-19 14:56:18   \n",
       "\n",
       "          process_step_step_2    date_time_step_2 process_step_3  \\\n",
       "client_id                                                          \n",
       "169                    step_2 2017-04-12 20:20:31         step_3   \n",
       "546                    step_2 2017-06-17 10:03:52         step_3   \n",
       "555                    step_2 2017-04-15 12:58:35         step_3   \n",
       "647                    step_2 2017-04-12 15:41:53         step_3   \n",
       "722                    step_2 2017-04-19 14:56:37         step_3   \n",
       "\n",
       "              date_time_step3  \n",
       "client_id                      \n",
       "169       2017-04-12 20:22:05  \n",
       "546       2017-06-17 10:05:19  \n",
       "555       2017-04-15 13:00:14  \n",
       "647       2017-04-12 15:45:02  \n",
       "722       2017-04-19 14:57:27  "
      ]
     },
     "execution_count": 122,
     "metadata": {},
     "output_type": "execute_result"
    }
   ],
   "source": [
    "digital_footprints.head()"
   ]
  },
  {
   "cell_type": "code",
   "execution_count": 124,
   "id": "df75b7f6",
   "metadata": {},
   "outputs": [],
   "source": [
    "digital_footprints.to_csv('digital_footprints.csv', index=False)"
   ]
  }
 ],
 "metadata": {
  "kernelspec": {
   "display_name": "Python 3 (ipykernel)",
   "language": "python",
   "name": "python3"
  },
  "language_info": {
   "codemirror_mode": {
    "name": "ipython",
    "version": 3
   },
   "file_extension": ".py",
   "mimetype": "text/x-python",
   "name": "python",
   "nbconvert_exporter": "python",
   "pygments_lexer": "ipython3",
   "version": "3.12.4"
  }
 },
 "nbformat": 4,
 "nbformat_minor": 5
}
